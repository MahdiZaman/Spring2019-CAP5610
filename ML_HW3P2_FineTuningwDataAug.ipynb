{
  "nbformat": 4,
  "nbformat_minor": 0,
  "metadata": {
    "colab": {
      "name": "ML_HW3P2_FineTuningwDataAug.ipynb",
      "version": "0.3.2",
      "provenance": [],
      "collapsed_sections": [],
      "include_colab_link": true
    },
    "kernelspec": {
      "name": "python3",
      "display_name": "Python 3"
    },
    "accelerator": "GPU"
  },
  "cells": [
    {
      "cell_type": "markdown",
      "metadata": {
        "id": "view-in-github",
        "colab_type": "text"
      },
      "source": [
        "<a href=\"https://colab.research.google.com/github/MahdiZaman/Spring2019-CAP5610/blob/master/ML_HW3P2_FineTuningwDataAug.ipynb\" target=\"_parent\"><img src=\"https://colab.research.google.com/assets/colab-badge.svg\" alt=\"Open In Colab\"/></a>"
      ]
    },
    {
      "metadata": {
        "id": "z1QvfuBoGQzL",
        "colab_type": "text"
      },
      "cell_type": "markdown",
      "source": [
        "********Problem 2********\n",
        "\n",
        "---\n",
        "\n",
        "\n",
        "\n",
        "**Download The Data**"
      ]
    },
    {
      "metadata": {
        "id": "y9Xcdc0yiTsb",
        "colab_type": "code",
        "outputId": "145844a4-d302-40f7-d1f0-dd36920efa15",
        "colab": {
          "base_uri": "https://localhost:8080/",
          "height": 231
        }
      },
      "cell_type": "code",
      "source": [
        "!wget --no-check-certificate \\\n",
        "    https://storage.googleapis.com/mledu-datasets/cats_and_dogs_filtered.zip \\\n",
        "    -O /tmp/cats_and_dogs_filtered.zip"
      ],
      "execution_count": 1,
      "outputs": [
        {
          "output_type": "stream",
          "text": [
            "--2019-04-16 23:05:54--  https://storage.googleapis.com/mledu-datasets/cats_and_dogs_filtered.zip\n",
            "Resolving storage.googleapis.com (storage.googleapis.com)... 74.125.141.128, 2607:f8b0:400c:c06::80\n",
            "Connecting to storage.googleapis.com (storage.googleapis.com)|74.125.141.128|:443... connected.\n",
            "HTTP request sent, awaiting response... 200 OK\n",
            "Length: 68606236 (65M) [application/zip]\n",
            "Saving to: ‘/tmp/cats_and_dogs_filtered.zip’\n",
            "\n",
            "/tmp/cats_and_dogs_ 100%[===================>]  65.43M   237MB/s    in 0.3s    \n",
            "\n",
            "2019-04-16 23:06:00 (237 MB/s) - ‘/tmp/cats_and_dogs_filtered.zip’ saved [68606236/68606236]\n",
            "\n"
          ],
          "name": "stdout"
        }
      ]
    },
    {
      "metadata": {
        "id": "wU_7IUTZiplF",
        "colab_type": "code",
        "colab": {}
      },
      "cell_type": "code",
      "source": [
        "import os\n",
        "import zipfile\n",
        "\n",
        "local_zip = '/tmp/cats_and_dogs_filtered.zip'\n",
        "zip_ref = zipfile.ZipFile(local_zip, 'r')\n",
        "zip_ref.extractall('/tmp')\n",
        "zip_ref.close()"
      ],
      "execution_count": 0,
      "outputs": []
    },
    {
      "metadata": {
        "id": "xHWs3_RXjNsb",
        "colab_type": "code",
        "colab": {}
      },
      "cell_type": "code",
      "source": [
        "base_dir = '/tmp/cats_and_dogs_filtered'\n",
        "train_dir = os.path.join(base_dir, 'train')\n",
        "validation_dir = os.path.join(base_dir, 'validation')\n",
        "\n",
        "# Directory with our training cat pictures\n",
        "train_cats_dir = os.path.join(train_dir, 'cats')\n",
        "\n",
        "# Directory with our training dog pictures\n",
        "train_dogs_dir = os.path.join(train_dir, 'dogs')\n",
        "\n",
        "# Directory with our validation cat pictures\n",
        "validation_cats_dir = os.path.join(validation_dir, 'cats')\n",
        "\n",
        "# Directory with our validation dog pictures\n",
        "validation_dogs_dir = os.path.join(validation_dir, 'dogs')"
      ],
      "execution_count": 0,
      "outputs": []
    },
    {
      "metadata": {
        "id": "f4NoUltcGvh_",
        "colab_type": "text"
      },
      "cell_type": "markdown",
      "source": [
        "**Loading the convolutional base**"
      ]
    },
    {
      "metadata": {
        "id": "Ff_txAo2jVFq",
        "colab_type": "code",
        "outputId": "8fa6d84d-1a96-4d3a-ffd2-ab186a4018e4",
        "colab": {
          "base_uri": "https://localhost:8080/",
          "height": 1040
        }
      },
      "cell_type": "code",
      "source": [
        "from keras.applications import VGG19\n",
        "\n",
        "conv_base = VGG19(\n",
        "    weights='imagenet', \n",
        "    include_top=False, \n",
        "    input_shape=(150, 150, 3))\n",
        "\n",
        "conv_base.summary()"
      ],
      "execution_count": 4,
      "outputs": [
        {
          "output_type": "stream",
          "text": [
            "Using TensorFlow backend.\n"
          ],
          "name": "stderr"
        },
        {
          "output_type": "stream",
          "text": [
            "WARNING:tensorflow:From /usr/local/lib/python3.6/dist-packages/tensorflow/python/framework/op_def_library.py:263: colocate_with (from tensorflow.python.framework.ops) is deprecated and will be removed in a future version.\n",
            "Instructions for updating:\n",
            "Colocations handled automatically by placer.\n",
            "Downloading data from https://github.com/fchollet/deep-learning-models/releases/download/v0.1/vgg19_weights_tf_dim_ordering_tf_kernels_notop.h5\n",
            "80142336/80134624 [==============================] - 1s 0us/step\n",
            "_________________________________________________________________\n",
            "Layer (type)                 Output Shape              Param #   \n",
            "=================================================================\n",
            "input_1 (InputLayer)         (None, 150, 150, 3)       0         \n",
            "_________________________________________________________________\n",
            "block1_conv1 (Conv2D)        (None, 150, 150, 64)      1792      \n",
            "_________________________________________________________________\n",
            "block1_conv2 (Conv2D)        (None, 150, 150, 64)      36928     \n",
            "_________________________________________________________________\n",
            "block1_pool (MaxPooling2D)   (None, 75, 75, 64)        0         \n",
            "_________________________________________________________________\n",
            "block2_conv1 (Conv2D)        (None, 75, 75, 128)       73856     \n",
            "_________________________________________________________________\n",
            "block2_conv2 (Conv2D)        (None, 75, 75, 128)       147584    \n",
            "_________________________________________________________________\n",
            "block2_pool (MaxPooling2D)   (None, 37, 37, 128)       0         \n",
            "_________________________________________________________________\n",
            "block3_conv1 (Conv2D)        (None, 37, 37, 256)       295168    \n",
            "_________________________________________________________________\n",
            "block3_conv2 (Conv2D)        (None, 37, 37, 256)       590080    \n",
            "_________________________________________________________________\n",
            "block3_conv3 (Conv2D)        (None, 37, 37, 256)       590080    \n",
            "_________________________________________________________________\n",
            "block3_conv4 (Conv2D)        (None, 37, 37, 256)       590080    \n",
            "_________________________________________________________________\n",
            "block3_pool (MaxPooling2D)   (None, 18, 18, 256)       0         \n",
            "_________________________________________________________________\n",
            "block4_conv1 (Conv2D)        (None, 18, 18, 512)       1180160   \n",
            "_________________________________________________________________\n",
            "block4_conv2 (Conv2D)        (None, 18, 18, 512)       2359808   \n",
            "_________________________________________________________________\n",
            "block4_conv3 (Conv2D)        (None, 18, 18, 512)       2359808   \n",
            "_________________________________________________________________\n",
            "block4_conv4 (Conv2D)        (None, 18, 18, 512)       2359808   \n",
            "_________________________________________________________________\n",
            "block4_pool (MaxPooling2D)   (None, 9, 9, 512)         0         \n",
            "_________________________________________________________________\n",
            "block5_conv1 (Conv2D)        (None, 9, 9, 512)         2359808   \n",
            "_________________________________________________________________\n",
            "block5_conv2 (Conv2D)        (None, 9, 9, 512)         2359808   \n",
            "_________________________________________________________________\n",
            "block5_conv3 (Conv2D)        (None, 9, 9, 512)         2359808   \n",
            "_________________________________________________________________\n",
            "block5_conv4 (Conv2D)        (None, 9, 9, 512)         2359808   \n",
            "_________________________________________________________________\n",
            "block5_pool (MaxPooling2D)   (None, 4, 4, 512)         0         \n",
            "=================================================================\n",
            "Total params: 20,024,384\n",
            "Trainable params: 20,024,384\n",
            "Non-trainable params: 0\n",
            "_________________________________________________________________\n"
          ],
          "name": "stdout"
        }
      ]
    },
    {
      "metadata": {
        "id": "SkRxZTupG2bU",
        "colab_type": "text"
      },
      "cell_type": "markdown",
      "source": [
        "**Fine-Tuning the last convolutional layer in Conv. Base and Freezing the other layers**"
      ]
    },
    {
      "metadata": {
        "id": "1Qe1-6-tbziV",
        "colab_type": "text"
      },
      "cell_type": "markdown",
      "source": [
        ""
      ]
    },
    {
      "metadata": {
        "id": "HKV28PngkiwQ",
        "colab_type": "code",
        "colab": {}
      },
      "cell_type": "code",
      "source": [
        "conv_base.trainable = True\n",
        "\n",
        "set_trainable = False\n",
        "for layer in conv_base.layers:\n",
        "  if layer.name == 'block5_conv4':\n",
        "    set_trainable = True\n",
        "  if set_trainable:\n",
        "    layer.trainable = True\n",
        "  else:\n",
        "    layer.trainable = False"
      ],
      "execution_count": 0,
      "outputs": []
    },
    {
      "metadata": {
        "id": "g2xnY4CRHGHR",
        "colab_type": "text"
      },
      "cell_type": "markdown",
      "source": [
        "**Concatenating the convolutional base and densely connected layers**"
      ]
    },
    {
      "metadata": {
        "id": "j4EmNf3DkmdP",
        "colab_type": "code",
        "outputId": "408cb0fc-ccdc-4c4c-b308-78e846ff5a7d",
        "colab": {
          "base_uri": "https://localhost:8080/",
          "height": 281
        }
      },
      "cell_type": "code",
      "source": [
        "from keras import layers\n",
        "from keras import models\n",
        "from keras import optimizers\n",
        "\n",
        "#\n",
        "model = models.Sequential()\n",
        "model.add(conv_base)\n",
        "model.add(layers.Flatten())\n",
        "model.add(layers.Dense(256, activation='relu'))\n",
        "#model.add(layers.Dropout(0.1))\n",
        "model.add(layers.Dense(1, activation='sigmoid'))\n",
        "#\n",
        "\n",
        "model.summary()"
      ],
      "execution_count": 8,
      "outputs": [
        {
          "output_type": "stream",
          "text": [
            "_________________________________________________________________\n",
            "Layer (type)                 Output Shape              Param #   \n",
            "=================================================================\n",
            "vgg19 (Model)                (None, 4, 4, 512)         20024384  \n",
            "_________________________________________________________________\n",
            "flatten_2 (Flatten)          (None, 8192)              0         \n",
            "_________________________________________________________________\n",
            "dense_3 (Dense)              (None, 256)               2097408   \n",
            "_________________________________________________________________\n",
            "dense_4 (Dense)              (None, 1)                 257       \n",
            "=================================================================\n",
            "Total params: 22,122,049\n",
            "Trainable params: 4,457,473\n",
            "Non-trainable params: 17,664,576\n",
            "_________________________________________________________________\n"
          ],
          "name": "stdout"
        }
      ]
    },
    {
      "metadata": {
        "id": "Ma5wq7aEHPto",
        "colab_type": "text"
      },
      "cell_type": "markdown",
      "source": [
        "**Using Data Augmentation and defining the training and validation data**"
      ]
    },
    {
      "metadata": {
        "id": "ciOMS6Dikuju",
        "colab_type": "code",
        "outputId": "b88e8c33-b377-4b87-ac61-ae8f97c58a98",
        "colab": {
          "base_uri": "https://localhost:8080/",
          "height": 52
        }
      },
      "cell_type": "code",
      "source": [
        "from keras.preprocessing.image import ImageDataGenerator\n",
        "from keras import optimizers\n",
        "\n",
        "# data augmentation\n",
        "\n",
        "train_datagen = ImageDataGenerator(\n",
        "    rescale=1./255, \n",
        "    rotation_range=40,\n",
        "    width_shift_range=0.2,\n",
        "    height_shift_range=0.2,\n",
        "    shear_range=0.2,\n",
        "    zoom_range=0.2,\n",
        "    horizontal_flip=True,\n",
        "    fill_mode='nearest'\n",
        ")\n",
        "\n",
        "train_generator = train_datagen.flow_from_directory(\n",
        "    train_dir,\n",
        "    target_size=(150, 150),\n",
        "    batch_size=20,\n",
        "    class_mode='binary')\n",
        "\n",
        "validation_datagen = ImageDataGenerator(rescale=1./255)\n",
        "\n",
        "validation_generator = validation_datagen.flow_from_directory(\n",
        "    validation_dir,\n",
        "    target_size=(150, 150),\n",
        "    batch_size=20,\n",
        "    class_mode='binary')"
      ],
      "execution_count": 9,
      "outputs": [
        {
          "output_type": "stream",
          "text": [
            "Found 2000 images belonging to 2 classes.\n",
            "Found 1000 images belonging to 2 classes.\n"
          ],
          "name": "stdout"
        }
      ]
    },
    {
      "metadata": {
        "id": "02bkhoMwbsGt",
        "colab_type": "code",
        "colab": {
          "base_uri": "https://localhost:8080/",
          "height": 3610
        },
        "outputId": "b49cdcc5-6f00-4cad-c535-8b820c39e5ac"
      },
      "cell_type": "code",
      "source": [
        "# compile model\n",
        "\n",
        "model.compile(\n",
        "    loss='binary_crossentropy', \n",
        "    optimizer=optimizers.RMSprop(lr=1e-5), \n",
        "    metrics=['acc'])\n",
        "\n",
        "# train\n",
        "\n",
        "history = model.fit_generator(\n",
        "    train_generator,\n",
        "    steps_per_epoch=100,\n",
        "    epochs=100,\n",
        "    validation_data=validation_generator,\n",
        "    validation_steps=50\n",
        ")"
      ],
      "execution_count": 10,
      "outputs": [
        {
          "output_type": "stream",
          "text": [
            "WARNING:tensorflow:From /usr/local/lib/python3.6/dist-packages/tensorflow/python/ops/math_ops.py:3066: to_int32 (from tensorflow.python.ops.math_ops) is deprecated and will be removed in a future version.\n",
            "Instructions for updating:\n",
            "Use tf.cast instead.\n",
            "Epoch 1/100\n",
            "100/100 [==============================] - 25s 251ms/step - loss: 0.6275 - acc: 0.6565 - val_loss: 0.5497 - val_acc: 0.6840\n",
            "Epoch 2/100\n",
            "100/100 [==============================] - 18s 176ms/step - loss: 0.5159 - acc: 0.7715 - val_loss: 0.4155 - val_acc: 0.8170\n",
            "Epoch 3/100\n",
            "100/100 [==============================] - 18s 176ms/step - loss: 0.4568 - acc: 0.8040 - val_loss: 0.3716 - val_acc: 0.8370\n",
            "Epoch 4/100\n",
            "100/100 [==============================] - 18s 176ms/step - loss: 0.4167 - acc: 0.8150 - val_loss: 0.3562 - val_acc: 0.8430\n",
            "Epoch 5/100\n",
            "100/100 [==============================] - 19s 186ms/step - loss: 0.3912 - acc: 0.8255 - val_loss: 0.3158 - val_acc: 0.8550\n",
            "Epoch 6/100\n",
            "100/100 [==============================] - 19s 190ms/step - loss: 0.3751 - acc: 0.8370 - val_loss: 0.3237 - val_acc: 0.8620\n",
            "Epoch 7/100\n",
            "100/100 [==============================] - 18s 180ms/step - loss: 0.3726 - acc: 0.8350 - val_loss: 0.2959 - val_acc: 0.8690\n",
            "Epoch 8/100\n",
            "100/100 [==============================] - 18s 177ms/step - loss: 0.3520 - acc: 0.8475 - val_loss: 0.2862 - val_acc: 0.8790\n",
            "Epoch 9/100\n",
            "100/100 [==============================] - 18s 176ms/step - loss: 0.3367 - acc: 0.8570 - val_loss: 0.2768 - val_acc: 0.8740\n",
            "Epoch 10/100\n",
            "100/100 [==============================] - 19s 190ms/step - loss: 0.3202 - acc: 0.8620 - val_loss: 0.2980 - val_acc: 0.8790\n",
            "Epoch 11/100\n",
            "100/100 [==============================] - 18s 177ms/step - loss: 0.3242 - acc: 0.8650 - val_loss: 0.2869 - val_acc: 0.8790\n",
            "Epoch 12/100\n",
            "100/100 [==============================] - 18s 177ms/step - loss: 0.3220 - acc: 0.8625 - val_loss: 0.2896 - val_acc: 0.8780\n",
            "Epoch 13/100\n",
            "100/100 [==============================] - 18s 178ms/step - loss: 0.3171 - acc: 0.8575 - val_loss: 0.2862 - val_acc: 0.8790\n",
            "Epoch 14/100\n",
            "100/100 [==============================] - 19s 189ms/step - loss: 0.3239 - acc: 0.8565 - val_loss: 0.2577 - val_acc: 0.8880\n",
            "Epoch 15/100\n",
            "100/100 [==============================] - 18s 178ms/step - loss: 0.3036 - acc: 0.8700 - val_loss: 0.2551 - val_acc: 0.8850\n",
            "Epoch 16/100\n",
            "100/100 [==============================] - 18s 178ms/step - loss: 0.3172 - acc: 0.8540 - val_loss: 0.2590 - val_acc: 0.8890\n",
            "Epoch 17/100\n",
            "100/100 [==============================] - 18s 177ms/step - loss: 0.2951 - acc: 0.8770 - val_loss: 0.2826 - val_acc: 0.8810\n",
            "Epoch 18/100\n",
            "100/100 [==============================] - 19s 186ms/step - loss: 0.2924 - acc: 0.8740 - val_loss: 0.2662 - val_acc: 0.8880\n",
            "Epoch 19/100\n",
            "100/100 [==============================] - 19s 189ms/step - loss: 0.2859 - acc: 0.8810 - val_loss: 0.2517 - val_acc: 0.8920\n",
            "Epoch 20/100\n",
            "100/100 [==============================] - 18s 178ms/step - loss: 0.2946 - acc: 0.8820 - val_loss: 0.2464 - val_acc: 0.8950\n",
            "Epoch 21/100\n",
            "100/100 [==============================] - 18s 178ms/step - loss: 0.2884 - acc: 0.8755 - val_loss: 0.2716 - val_acc: 0.8880\n",
            "Epoch 22/100\n",
            "100/100 [==============================] - 18s 178ms/step - loss: 0.2853 - acc: 0.8800 - val_loss: 0.2452 - val_acc: 0.9010\n",
            "Epoch 23/100\n",
            "100/100 [==============================] - 19s 194ms/step - loss: 0.2735 - acc: 0.8805 - val_loss: 0.2383 - val_acc: 0.8960\n",
            "Epoch 24/100\n",
            "100/100 [==============================] - 18s 185ms/step - loss: 0.2683 - acc: 0.8835 - val_loss: 0.2707 - val_acc: 0.8890\n",
            "Epoch 25/100\n",
            "100/100 [==============================] - 18s 179ms/step - loss: 0.2614 - acc: 0.8950 - val_loss: 0.2485 - val_acc: 0.8990\n",
            "Epoch 26/100\n",
            "100/100 [==============================] - 18s 178ms/step - loss: 0.2614 - acc: 0.8910 - val_loss: 0.2459 - val_acc: 0.9020\n",
            "Epoch 27/100\n",
            "100/100 [==============================] - 18s 183ms/step - loss: 0.2536 - acc: 0.8865 - val_loss: 0.2416 - val_acc: 0.9000\n",
            "Epoch 28/100\n",
            "100/100 [==============================] - 18s 184ms/step - loss: 0.2611 - acc: 0.8885 - val_loss: 0.2382 - val_acc: 0.9000\n",
            "Epoch 29/100\n",
            "100/100 [==============================] - 18s 178ms/step - loss: 0.2577 - acc: 0.8885 - val_loss: 0.2720 - val_acc: 0.8970\n",
            "Epoch 30/100\n",
            "100/100 [==============================] - 18s 177ms/step - loss: 0.2563 - acc: 0.8925 - val_loss: 0.2588 - val_acc: 0.8970\n",
            "Epoch 31/100\n",
            "100/100 [==============================] - 18s 177ms/step - loss: 0.2515 - acc: 0.8980 - val_loss: 0.2446 - val_acc: 0.8960\n",
            "Epoch 32/100\n",
            "100/100 [==============================] - 19s 191ms/step - loss: 0.2579 - acc: 0.8915 - val_loss: 0.2356 - val_acc: 0.9020\n",
            "Epoch 33/100\n",
            "100/100 [==============================] - 18s 177ms/step - loss: 0.2413 - acc: 0.8985 - val_loss: 0.2544 - val_acc: 0.8990\n",
            "Epoch 34/100\n",
            "100/100 [==============================] - 18s 178ms/step - loss: 0.2604 - acc: 0.8950 - val_loss: 0.2374 - val_acc: 0.9100\n",
            "Epoch 35/100\n",
            "100/100 [==============================] - 18s 185ms/step - loss: 0.2362 - acc: 0.9045 - val_loss: 0.2327 - val_acc: 0.9100\n",
            "Epoch 36/100\n",
            "100/100 [==============================] - 19s 186ms/step - loss: 0.2337 - acc: 0.8970 - val_loss: 0.2321 - val_acc: 0.9100\n",
            "Epoch 37/100\n",
            "100/100 [==============================] - 18s 180ms/step - loss: 0.2314 - acc: 0.9050 - val_loss: 0.2270 - val_acc: 0.9140\n",
            "Epoch 38/100\n",
            "100/100 [==============================] - 18s 178ms/step - loss: 0.2339 - acc: 0.9015 - val_loss: 0.2442 - val_acc: 0.9050\n",
            "Epoch 39/100\n",
            "100/100 [==============================] - 18s 177ms/step - loss: 0.2217 - acc: 0.9100 - val_loss: 0.2739 - val_acc: 0.8900\n",
            "Epoch 40/100\n",
            "100/100 [==============================] - 18s 178ms/step - loss: 0.2216 - acc: 0.9075 - val_loss: 0.2238 - val_acc: 0.9130\n",
            "Epoch 41/100\n",
            "100/100 [==============================] - 19s 194ms/step - loss: 0.2245 - acc: 0.9080 - val_loss: 0.2709 - val_acc: 0.8910\n",
            "Epoch 42/100\n",
            "100/100 [==============================] - 18s 177ms/step - loss: 0.2259 - acc: 0.9110 - val_loss: 0.2526 - val_acc: 0.8960\n",
            "Epoch 43/100\n",
            "100/100 [==============================] - 18s 177ms/step - loss: 0.2147 - acc: 0.9105 - val_loss: 0.2281 - val_acc: 0.9130\n",
            "Epoch 44/100\n",
            "100/100 [==============================] - 18s 178ms/step - loss: 0.2269 - acc: 0.9010 - val_loss: 0.2522 - val_acc: 0.8990\n",
            "Epoch 45/100\n",
            "100/100 [==============================] - 19s 189ms/step - loss: 0.2178 - acc: 0.9120 - val_loss: 0.2291 - val_acc: 0.9090\n",
            "Epoch 46/100\n",
            "100/100 [==============================] - 18s 179ms/step - loss: 0.2189 - acc: 0.9100 - val_loss: 0.2235 - val_acc: 0.9030\n",
            "Epoch 47/100\n",
            "100/100 [==============================] - 18s 177ms/step - loss: 0.2089 - acc: 0.9180 - val_loss: 0.3079 - val_acc: 0.8890\n",
            "Epoch 48/100\n",
            "100/100 [==============================] - 18s 177ms/step - loss: 0.2094 - acc: 0.9125 - val_loss: 0.2518 - val_acc: 0.9000\n",
            "Epoch 49/100\n",
            "100/100 [==============================] - 18s 177ms/step - loss: 0.2225 - acc: 0.9070 - val_loss: 0.2516 - val_acc: 0.8980\n",
            "Epoch 50/100\n",
            "100/100 [==============================] - 19s 190ms/step - loss: 0.2155 - acc: 0.9125 - val_loss: 0.2603 - val_acc: 0.9010\n",
            "Epoch 51/100\n",
            "100/100 [==============================] - 18s 177ms/step - loss: 0.2100 - acc: 0.9080 - val_loss: 0.2412 - val_acc: 0.9040\n",
            "Epoch 52/100\n",
            "100/100 [==============================] - 18s 185ms/step - loss: 0.2058 - acc: 0.9220 - val_loss: 0.2375 - val_acc: 0.9070\n",
            "Epoch 53/100\n",
            "100/100 [==============================] - 18s 177ms/step - loss: 0.1937 - acc: 0.9295 - val_loss: 0.2293 - val_acc: 0.9100\n",
            "Epoch 54/100\n",
            "100/100 [==============================] - 19s 190ms/step - loss: 0.2050 - acc: 0.9165 - val_loss: 0.2475 - val_acc: 0.9040\n",
            "Epoch 55/100\n",
            "100/100 [==============================] - 18s 179ms/step - loss: 0.2106 - acc: 0.9135 - val_loss: 0.2285 - val_acc: 0.9100\n",
            "Epoch 56/100\n",
            "100/100 [==============================] - 18s 178ms/step - loss: 0.1979 - acc: 0.9165 - val_loss: 0.2948 - val_acc: 0.8880\n",
            "Epoch 57/100\n",
            "100/100 [==============================] - 18s 177ms/step - loss: 0.2064 - acc: 0.9135 - val_loss: 0.2229 - val_acc: 0.9050\n",
            "Epoch 58/100\n",
            "100/100 [==============================] - 20s 198ms/step - loss: 0.1861 - acc: 0.9210 - val_loss: 0.2319 - val_acc: 0.9080\n",
            "Epoch 59/100\n",
            "100/100 [==============================] - 18s 184ms/step - loss: 0.1869 - acc: 0.9310 - val_loss: 0.2174 - val_acc: 0.9070\n",
            "Epoch 60/100\n",
            "100/100 [==============================] - 18s 177ms/step - loss: 0.1992 - acc: 0.9185 - val_loss: 0.2167 - val_acc: 0.9040\n",
            "Epoch 61/100\n",
            "100/100 [==============================] - 18s 178ms/step - loss: 0.1842 - acc: 0.9265 - val_loss: 0.2186 - val_acc: 0.9060\n",
            "Epoch 62/100\n",
            "100/100 [==============================] - 18s 178ms/step - loss: 0.1964 - acc: 0.9175 - val_loss: 0.2278 - val_acc: 0.9100\n",
            "Epoch 63/100\n",
            "100/100 [==============================] - 19s 191ms/step - loss: 0.1759 - acc: 0.9305 - val_loss: 0.2226 - val_acc: 0.9160\n",
            "Epoch 64/100\n",
            "100/100 [==============================] - 18s 178ms/step - loss: 0.1989 - acc: 0.9190 - val_loss: 0.2147 - val_acc: 0.9100\n",
            "Epoch 65/100\n",
            "100/100 [==============================] - 18s 178ms/step - loss: 0.1969 - acc: 0.9175 - val_loss: 0.2357 - val_acc: 0.9040\n",
            "Epoch 66/100\n",
            "100/100 [==============================] - 18s 178ms/step - loss: 0.1904 - acc: 0.9285 - val_loss: 0.2333 - val_acc: 0.9070\n",
            "Epoch 67/100\n",
            "100/100 [==============================] - 19s 185ms/step - loss: 0.1784 - acc: 0.9320 - val_loss: 0.2280 - val_acc: 0.9100\n",
            "Epoch 68/100\n",
            "100/100 [==============================] - 18s 182ms/step - loss: 0.1824 - acc: 0.9275 - val_loss: 0.2674 - val_acc: 0.8980\n",
            "Epoch 69/100\n",
            "100/100 [==============================] - 19s 186ms/step - loss: 0.1853 - acc: 0.9230 - val_loss: 0.2288 - val_acc: 0.9070\n",
            "Epoch 70/100\n",
            "100/100 [==============================] - 18s 178ms/step - loss: 0.1770 - acc: 0.9280 - val_loss: 0.2283 - val_acc: 0.9120\n",
            "Epoch 71/100\n",
            "100/100 [==============================] - 18s 177ms/step - loss: 0.1832 - acc: 0.9200 - val_loss: 0.2926 - val_acc: 0.8960\n",
            "Epoch 72/100\n",
            "100/100 [==============================] - 19s 191ms/step - loss: 0.1654 - acc: 0.9330 - val_loss: 0.2614 - val_acc: 0.9020\n",
            "Epoch 73/100\n",
            "100/100 [==============================] - 18s 178ms/step - loss: 0.1767 - acc: 0.9245 - val_loss: 0.2559 - val_acc: 0.9060\n",
            "Epoch 74/100\n",
            "100/100 [==============================] - 18s 178ms/step - loss: 0.1778 - acc: 0.9280 - val_loss: 0.2298 - val_acc: 0.9100\n",
            "Epoch 75/100\n",
            "100/100 [==============================] - 19s 194ms/step - loss: 0.1730 - acc: 0.9290 - val_loss: 0.2277 - val_acc: 0.9070\n",
            "Epoch 76/100\n",
            "100/100 [==============================] - 19s 189ms/step - loss: 0.1748 - acc: 0.9260 - val_loss: 0.2429 - val_acc: 0.9140\n",
            "Epoch 77/100\n",
            "100/100 [==============================] - 18s 178ms/step - loss: 0.1660 - acc: 0.9370 - val_loss: 0.2206 - val_acc: 0.9130\n",
            "Epoch 78/100\n",
            "100/100 [==============================] - 18s 178ms/step - loss: 0.1625 - acc: 0.9355 - val_loss: 0.2233 - val_acc: 0.9050\n",
            "Epoch 79/100\n",
            "100/100 [==============================] - 18s 177ms/step - loss: 0.1641 - acc: 0.9350 - val_loss: 0.2591 - val_acc: 0.9110\n",
            "Epoch 80/100\n",
            "100/100 [==============================] - 18s 177ms/step - loss: 0.1605 - acc: 0.9380 - val_loss: 0.2273 - val_acc: 0.9080\n",
            "Epoch 81/100\n",
            "100/100 [==============================] - 19s 188ms/step - loss: 0.1509 - acc: 0.9405 - val_loss: 0.2529 - val_acc: 0.9050\n",
            "Epoch 82/100\n",
            "100/100 [==============================] - 18s 178ms/step - loss: 0.1598 - acc: 0.9325 - val_loss: 0.2228 - val_acc: 0.9130\n",
            "Epoch 83/100\n",
            "100/100 [==============================] - 18s 177ms/step - loss: 0.1580 - acc: 0.9360 - val_loss: 0.2170 - val_acc: 0.9110\n",
            "Epoch 84/100\n",
            "100/100 [==============================] - 18s 179ms/step - loss: 0.1613 - acc: 0.9355 - val_loss: 0.2292 - val_acc: 0.9120\n",
            "Epoch 85/100\n",
            "100/100 [==============================] - 19s 192ms/step - loss: 0.1575 - acc: 0.9325 - val_loss: 0.2200 - val_acc: 0.9110\n",
            "Epoch 86/100\n",
            "100/100 [==============================] - 18s 181ms/step - loss: 0.1613 - acc: 0.9310 - val_loss: 0.2243 - val_acc: 0.9150\n",
            "Epoch 87/100\n",
            "100/100 [==============================] - 18s 178ms/step - loss: 0.1593 - acc: 0.9345 - val_loss: 0.2507 - val_acc: 0.9120\n",
            "Epoch 88/100\n",
            "100/100 [==============================] - 18s 178ms/step - loss: 0.1463 - acc: 0.9395 - val_loss: 0.2263 - val_acc: 0.9100\n",
            "Epoch 89/100\n",
            "100/100 [==============================] - 18s 181ms/step - loss: 0.1565 - acc: 0.9420 - val_loss: 0.2320 - val_acc: 0.9170\n",
            "Epoch 90/100\n",
            "100/100 [==============================] - 19s 187ms/step - loss: 0.1547 - acc: 0.9390 - val_loss: 0.2267 - val_acc: 0.9110\n",
            "Epoch 91/100\n",
            "100/100 [==============================] - 18s 177ms/step - loss: 0.1563 - acc: 0.9435 - val_loss: 0.2268 - val_acc: 0.9080\n",
            "Epoch 92/100\n",
            "100/100 [==============================] - 19s 194ms/step - loss: 0.1538 - acc: 0.9390 - val_loss: 0.2532 - val_acc: 0.9120\n",
            "Epoch 93/100\n",
            "100/100 [==============================] - 18s 178ms/step - loss: 0.1410 - acc: 0.9485 - val_loss: 0.2319 - val_acc: 0.9090\n",
            "Epoch 94/100\n",
            "100/100 [==============================] - 19s 190ms/step - loss: 0.1494 - acc: 0.9365 - val_loss: 0.2194 - val_acc: 0.9090\n",
            "Epoch 95/100\n",
            "100/100 [==============================] - 18s 178ms/step - loss: 0.1391 - acc: 0.9465 - val_loss: 0.2191 - val_acc: 0.9140\n",
            "Epoch 96/100\n",
            "100/100 [==============================] - 18s 177ms/step - loss: 0.1462 - acc: 0.9405 - val_loss: 0.2597 - val_acc: 0.9020\n",
            "Epoch 97/100\n",
            "100/100 [==============================] - 18s 178ms/step - loss: 0.1465 - acc: 0.9470 - val_loss: 0.2236 - val_acc: 0.9110\n",
            "Epoch 98/100\n",
            "100/100 [==============================] - 18s 185ms/step - loss: 0.1522 - acc: 0.9460 - val_loss: 0.2145 - val_acc: 0.9170\n",
            "Epoch 99/100\n",
            "100/100 [==============================] - 18s 181ms/step - loss: 0.1344 - acc: 0.9480 - val_loss: 0.2253 - val_acc: 0.9080\n",
            "Epoch 100/100\n",
            "100/100 [==============================] - 18s 177ms/step - loss: 0.1324 - acc: 0.9470 - val_loss: 0.2212 - val_acc: 0.9160\n"
          ],
          "name": "stdout"
        }
      ]
    },
    {
      "metadata": {
        "id": "hUaRn05aNgj_",
        "colab_type": "text"
      },
      "cell_type": "markdown",
      "source": [
        "**Displaying Accuracy and Loss in Training and Validation phase**"
      ]
    },
    {
      "metadata": {
        "id": "Rgx9WgZ5kZp3",
        "colab_type": "code",
        "outputId": "1e330cff-cd5d-4ed8-9b71-13d460de8991",
        "colab": {
          "base_uri": "https://localhost:8080/",
          "height": 545
        }
      },
      "cell_type": "code",
      "source": [
        "%matplotlib inline\n",
        "\n",
        "import matplotlib.pyplot as plt\n",
        "\n",
        "acc = history.history['acc']\n",
        "val_acc = history.history['val_acc']\n",
        "\n",
        "loss = history.history['loss']\n",
        "val_loss = history.history['val_loss']\n",
        "\n",
        "epochs = range(1, len(acc) + 1)\n",
        "\n",
        "# training and validation accuracy\n",
        "\n",
        "plt.plot(epochs, acc, 'bo', label='training acc')\n",
        "plt.plot(epochs, val_acc, 'b', label='validation acc')\n",
        "plt.title('training and validation accuracy')\n",
        "plt.legend()\n",
        "\n",
        "plt.figure()\n",
        "\n",
        "# training and validation loss\n",
        "\n",
        "plt.plot(epochs, loss, 'bo', label='training loss')\n",
        "plt.plot(epochs, val_loss, 'b', label='validation loss')\n",
        "plt.title('training and validation loss')\n",
        "plt.legend()\n",
        "\n",
        "plt.show()"
      ],
      "execution_count": 11,
      "outputs": [
        {
          "output_type": "display_data",
          "data": {
            "image/png": "[encoded data removed]",
            "text/plain": [
              "<Figure size 432x288 with 1 Axes>"
            ]
          },
          "metadata": {
            "tags": []
          }
        },
        {
          "output_type": "display_data",
          "data": {
            "image/png": "[encoded data removed]",
            "text/plain": [
              "<Figure size 432x288 with 1 Axes>"
            ]
          },
          "metadata": {
            "tags": []
          }
        }
      ]
    },
    {
      "metadata": {
        "id": "cYxeFtlHH2e-",
        "colab_type": "code",
        "colab": {
          "base_uri": "https://localhost:8080/",
          "height": 52
        },
        "outputId": "66efc7af-53ca-4333-9041-a11405835731"
      },
      "cell_type": "code",
      "source": [
        "val_loss, val_acc = model.evaluate_generator(validation_generator, steps=50)\n",
        "\n",
        "#\n",
        "print(\"Validation loss:\", val_loss)\n",
        "print(\"Validation accuracy:\", val_acc)\n",
        "#"
      ],
      "execution_count": 12,
      "outputs": [
        {
          "output_type": "stream",
          "text": [
            "Validation loss: 0.21231792728067375\n",
            "Validation accuracy: 0.9199999928474426\n"
          ],
          "name": "stdout"
        }
      ]
    },
    {
      "metadata": {
        "id": "Baas4DjeNxWn",
        "colab_type": "text"
      },
      "cell_type": "markdown",
      "source": [
        "**Saving the model in Colab**"
      ]
    },
    {
      "metadata": {
        "id": "koxWnNn2ILmU",
        "colab_type": "code",
        "outputId": "06638d2f-fd74-49c6-c583-60f76852a4c7",
        "colab": {
          "base_uri": "https://localhost:8080/",
          "height": 35
        }
      },
      "cell_type": "code",
      "source": [
        "model_fname = 'catsdogsclassifier.h5' \n",
        "model.save(model_fname)\n",
        "print(\"Model saved in Colab\")"
      ],
      "execution_count": 13,
      "outputs": [
        {
          "output_type": "stream",
          "text": [
            "Model saved in Colab\n"
          ],
          "name": "stdout"
        }
      ]
    },
    {
      "metadata": {
        "id": "nHFw2GXNJhVB",
        "colab_type": "code",
        "colab": {
          "base_uri": "https://localhost:8080/",
          "height": 52
        },
        "outputId": "e0b616bd-67e9-44b3-bb53-44b3104e19d3"
      },
      "cell_type": "code",
      "source": [
        "from google.colab import files\n",
        "\n",
        "with open(model_fname, 'r') as f:\n",
        "  files.download(model_fname)\n",
        "print(\"Model downloaded on Local disk\")\n",
        "print(\"Problem 2 Ends\")"
      ],
      "execution_count": 15,
      "outputs": [
        {
          "output_type": "stream",
          "text": [
            "Model downloaded on Local disk\n",
            "Problem 2 Ends\n"
          ],
          "name": "stdout"
        }
      ]
    },
    {
      "metadata": {
        "id": "a9LMMBEQj87a",
        "colab_type": "code",
        "colab": {}
      },
      "cell_type": "code",
      "source": [
        ""
      ],
      "execution_count": 0,
      "outputs": []
    }
  ]
}