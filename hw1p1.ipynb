{
  "nbformat": 4,
  "nbformat_minor": 0,
  "metadata": {
    "colab": {
      "name": "hw1p1.ipynb",
      "version": "0.3.2",
      "provenance": [],
      "collapsed_sections": [],
      "include_colab_link": true
    },
    "kernelspec": {
      "name": "python3",
      "display_name": "Python 3"
    },
    "accelerator": "GPU"
  },
  "cells": [
    {
      "cell_type": "markdown",
      "metadata": {
        "id": "view-in-github",
        "colab_type": "text"
      },
      "source": [
        "<a href=\"https://colab.research.google.com/github/MahdiZaman/Spring2019-CAP5610/blob/master/hw1p1.ipynb\" target=\"_parent\"><img src=\"https://colab.research.google.com/assets/colab-badge.svg\" alt=\"Open In Colab\"/></a>"
      ]
    },
    {
      "metadata": {
        "id": "nANAt0dk728-",
        "colab_type": "code",
        "outputId": "1cbbaaf1-b8a4-4402-f0cb-7985e2d98518",
        "colab": {
          "base_uri": "https://localhost:8080/",
          "height": 34
        }
      },
      "cell_type": "code",
      "source": [
        "###HW1 P1\n",
        "\n",
        "import numpy as np\n",
        "from keras.datasets import mnist\n",
        "(train_images_original, train_labels_original), (test_images_original, test_labels_original) = mnist.load_data()\n"
      ],
      "execution_count": 1,
      "outputs": [
        {
          "output_type": "stream",
          "text": [
            "Using TensorFlow backend.\n"
          ],
          "name": "stderr"
        }
      ]
    },
    {
      "metadata": {
        "id": "BlU3X7wjCTFY",
        "colab_type": "code",
        "colab": {}
      },
      "cell_type": "code",
      "source": [
        "# Preparing the Train and Test Images (Adding a column of 1s for biases)\n",
        "nfeatures = 28*28\n",
        "nclasses = 1\n",
        "ntrainsamples = train_images_original.shape[0] #60000\n",
        "ntestsamples = test_images_original.shape[0]   #10000\n",
        "\n",
        "#normalizing inputs\n",
        "train_images = train_images_original.reshape((ntrainsamples, nfeatures))\n",
        "train_images = train_images.astype('float32') / 255 \n",
        "test_images = test_images_original.reshape((ntestsamples, nfeatures))\n",
        "test_images = test_images.astype('float32') / 255\n",
        "\n",
        "#adding a column of 1s for bias calculation\n",
        "train_images_b = np.c_[np.ones((ntrainsamples, 1)), train_images]\n",
        "test_images_b = np.c_[np.ones((ntestsamples,1)), test_images]\n",
        "\n",
        "# # One hot encoding for train and test labels\n",
        "train_labels_bin = np.eye(10)[train_labels_original]\n",
        "test_labels_bin = np.eye(10)[test_labels_original]"
      ],
      "execution_count": 0,
      "outputs": []
    },
    {
      "metadata": {
        "id": "x54owZfXFHlk",
        "colab_type": "code",
        "colab": {}
      },
      "cell_type": "code",
      "source": [
        "def sigmoid(z):\n",
        "    a = 1/(1+ np.exp(-z))\n",
        "    return a"
      ],
      "execution_count": 0,
      "outputs": []
    },
    {
      "metadata": {
        "id": "5-Ku6vxU9htH",
        "colab_type": "code",
        "colab": {}
      },
      "cell_type": "code",
      "source": [
        "def sigdif(a):\n",
        "    return a *(1-a)"
      ],
      "execution_count": 0,
      "outputs": []
    },
    {
      "metadata": {
        "id": "cRxFBcCKFt28",
        "colab_type": "code",
        "colab": {}
      },
      "cell_type": "code",
      "source": [
        "def deriv(x, y, a, minibatch):\n",
        "    temp = a-y\n",
        "    dz = ((temp) * sigdif(a)) / minibatch\n",
        "    dw = x.T.dot(dz)\n",
        "    return dw"
      ],
      "execution_count": 0,
      "outputs": []
    },
    {
      "metadata": {
        "id": "767MnbCPGJbu",
        "colab_type": "code",
        "colab": {}
      },
      "cell_type": "code",
      "source": [
        "def forwardprop(x, weight):\n",
        "    xw = x.dot(weight)\n",
        "    A = sigmoid(xw)\n",
        "    return A"
      ],
      "execution_count": 0,
      "outputs": []
    },
    {
      "metadata": {
        "id": "Z9bbIMEMbYou",
        "colab_type": "code",
        "colab": {}
      },
      "cell_type": "code",
      "source": [
        "def mse_loss(y, y_hat):\n",
        "    l = 0.5*np.mean((y_hat-y)**2)\n",
        "    return l"
      ],
      "execution_count": 0,
      "outputs": []
    },
    {
      "metadata": {
        "id": "4nvn11l2b69e",
        "colab_type": "code",
        "outputId": "ede0c2ac-ecb7-4a5d-d832-39361ecfc095",
        "colab": {
          "base_uri": "https://localhost:8080/",
          "height": 34
        }
      },
      "cell_type": "code",
      "source": [
        "## Training the model\n",
        "\n",
        "epochs = 10 #number of epochs\n",
        "minibatchsize = 40 #number of samples in minibatch\n",
        "lr = 0.01 #Learning Rate\n",
        "\n",
        "#initializing Weights and Bias(Bias added as a column of 1 on the left in weight array)\n",
        "\n",
        "total_w=np.zeros((785,10))\n",
        "\n",
        "for label in range(10):\n",
        "\n",
        "    #initial_weight = np.random.randn(nfeatures+1, nclasses)\n",
        "    initial_weight = np.zeros((nfeatures+1, nclasses))\n",
        "    weight = initial_weight\n",
        "  \n",
        "    #weight_path_mgd = []\n",
        "    #weight_path_mgd.append(weight)\n",
        "\n",
        "    for epoch in range(epochs):\n",
        "        #shuffling the samples\n",
        "        m = np.random.permutation(ntrainsamples)\n",
        "        train_images = train_images_b[m]\n",
        "        train_labels = train_labels_bin[m]\n",
        "\n",
        "        #minibatch SGD\n",
        "        for i in range(0, ntrainsamples, minibatchsize):\n",
        "            train_images_m = train_images[i : i+minibatchsize]\n",
        "            train_labels_m = train_labels[i : i+minibatchsize]\n",
        "\n",
        "            A = forwardprop(train_images_m, weight)\n",
        "            \n",
        "            train_labels_l = train_labels_m[:,label]\n",
        "            train_labels_l = train_labels_l.reshape((minibatchsize,1))\n",
        "\n",
        "            loss = mse_loss(train_labels_l, A)\n",
        "            \n",
        "# # #             # Updating Weights and Biases\n",
        "\n",
        "\n",
        "            dw = deriv(train_images_m, train_labels_l, A , minibatchsize)\n",
        "            weight = weight - lr*dw\n",
        "            \n",
        "            #weight_path_mgd.append(weight)\n",
        "    total_w[:,label]=weight.reshape(785,)    \n",
        "    \n",
        "#      weight_path_mgd = np.array([])\n",
        "#      weight_path_mgd = np.c_[weight_path_mgd , weight.reshape((785,1))]\n",
        "#weight_path_mgd_array = np.asarray(weight_path_mgd)\n",
        "print(total_w.shape)"
      ],
      "execution_count": 15,
      "outputs": [
        {
          "output_type": "stream",
          "text": [
            "(785, 10)\n"
          ],
          "name": "stdout"
        }
      ]
    },
    {
      "metadata": {
        "id": "KRyhq33SuFrN",
        "colab_type": "code",
        "colab": {
          "base_uri": "https://localhost:8080/",
          "height": 51
        },
        "outputId": "5cdff8d9-6a22-4db1-dec1-d18d20cde7cb"
      },
      "cell_type": "code",
      "source": [
        "print(loss)\n",
        "print(total_w.shape)"
      ],
      "execution_count": 16,
      "outputs": [
        {
          "output_type": "stream",
          "text": [
            "0.01296814382278208\n",
            "(785, 10)\n"
          ],
          "name": "stdout"
        }
      ]
    },
    {
      "metadata": {
        "id": "BqAppiwh6-UD",
        "colab_type": "code",
        "colab": {
          "base_uri": "https://localhost:8080/",
          "height": 34
        },
        "outputId": "3d28fd58-73ea-47de-bf83-742f5cd9662c"
      },
      "cell_type": "code",
      "source": [
        "z = test_images_b.dot(total_w)\n",
        "a = sigmoid(z)\n",
        "labels = np.argmax(a,axis=1)\n",
        "comp = (labels==test_labels_original)\n",
        "acc = sum(comp)/(test_labels_original.shape[0])\n",
        "print(\"Accuracy is {}\".format(acc))"
      ],
      "execution_count": 20,
      "outputs": [
        {
          "output_type": "stream",
          "text": [
            "Accuracy is 0.8841\n"
          ],
          "name": "stdout"
        }
      ]
    },
    {
      "metadata": {
        "id": "I5kKMgCE0i7p",
        "colab_type": "code",
        "colab": {}
      },
      "cell_type": "code",
      "source": [
        ""
      ],
      "execution_count": 0,
      "outputs": []
    }
  ]
}