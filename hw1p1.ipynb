{
  "nbformat": 4,
  "nbformat_minor": 0,
  "metadata": {
    "colab": {
      "name": "hw1p1.ipynb",
      "version": "0.3.2",
      "provenance": [],
      "collapsed_sections": [],
      "include_colab_link": true
    },
    "kernelspec": {
      "name": "python3",
      "display_name": "Python 3"
    },
    "accelerator": "GPU"
  },
  "cells": [
    {
      "cell_type": "markdown",
      "metadata": {
        "id": "view-in-github",
        "colab_type": "text"
      },
      "source": [
        "<a href=\"https://colab.research.google.com/github/MahdiZaman/Spring2019-CAP5610/blob/master/hw1p1.ipynb\" target=\"_parent\"><img src=\"https://colab.research.google.com/assets/colab-badge.svg\" alt=\"Open In Colab\"/></a>"
      ]
    },
    {
      "metadata": {
        "id": "nANAt0dk728-",
        "colab_type": "code",
        "outputId": "fef2fa34-cf1b-44cb-b8ba-ac9506b0f229",
        "colab": {
          "base_uri": "https://localhost:8080/",
          "height": 68
        }
      },
      "cell_type": "code",
      "source": [
        "###HW1 P1\n",
        "\n",
        "import numpy as np\n",
        "from keras.datasets import mnist\n",
        "(train_images_original, train_labels_original), (test_images_original, test_labels_original) = mnist.load_data()\n"
      ],
      "execution_count": 1,
      "outputs": [
        {
          "output_type": "stream",
          "text": [
            "Using TensorFlow backend.\n"
          ],
          "name": "stderr"
        },
        {
          "output_type": "stream",
          "text": [
            "Downloading data from https://s3.amazonaws.com/img-datasets/mnist.npz\n",
            "11493376/11490434 [==============================] - 1s 0us/step\n"
          ],
          "name": "stdout"
        }
      ]
    },
    {
      "metadata": {
        "id": "BlU3X7wjCTFY",
        "colab_type": "code",
        "colab": {}
      },
      "cell_type": "code",
      "source": [
        "# Preparing the Train and Test Images (Adding a column of 1s for biases)\n",
        "nfeatures = 28*28\n",
        "nclasses = 1\n",
        "ntrainsamples = train_images_original.shape[0] #60000\n",
        "ntestsamples = test_images_original.shape[0]   #10000\n",
        "\n",
        "#normalizing inputs\n",
        "train_images = train_images_original.reshape((ntrainsamples, nfeatures))\n",
        "train_images = train_images.astype('float32') / 255 \n",
        "test_images = test_images_original.reshape((ntestsamples, nfeatures))\n",
        "test_images = test_images.astype('float32') / 255\n",
        "\n",
        "#adding a column of 1s for bias calculation\n",
        "train_images_b = np.c_[np.ones((ntrainsamples, 1)), train_images]\n",
        "test_images_b = np.c_[np.ones((ntestsamples,1)), test_images]\n",
        "\n",
        "# # One hot encoding for train and test labels\n",
        "train_labels_bin = np.eye(10)[train_labels_original]\n",
        "test_labels_bin = np.eye(10)[test_labels_original]"
      ],
      "execution_count": 0,
      "outputs": []
    },
    {
      "metadata": {
        "id": "x54owZfXFHlk",
        "colab_type": "code",
        "colab": {}
      },
      "cell_type": "code",
      "source": [
        "def sigmoid(z):\n",
        "    a = 1/(1+ np.exp(-z))\n",
        "    return a"
      ],
      "execution_count": 0,
      "outputs": []
    },
    {
      "metadata": {
        "id": "5-Ku6vxU9htH",
        "colab_type": "code",
        "colab": {}
      },
      "cell_type": "code",
      "source": [
        "def sigdif(a):\n",
        "    ans = a *(1-a)\n",
        "#     print(\"ans.shape=\",ans.shape)\n",
        "    return ans"
      ],
      "execution_count": 0,
      "outputs": []
    },
    {
      "metadata": {
        "id": "cRxFBcCKFt28",
        "colab_type": "code",
        "colab": {}
      },
      "cell_type": "code",
      "source": [
        "def deriv(x, y, a, minibatch):\n",
        "#     print(\"a.shape=\",a.shape)\n",
        "#     print(\"y.shape=\",y.shape)\n",
        "    temp = a-y\n",
        "#     print(\"a-y.shape=\",temp.shape)\n",
        "    #print(\".shape=\",y.shape)\n",
        "    dz = ((temp) * sigdif(a)) / minibatch\n",
        "#     print(\"dz.shape=\",dz.shape)\n",
        "    dw = x.T.dot(dz)\n",
        "#     dw = np.dot(x.T , dz)\n",
        "    return dw"
      ],
      "execution_count": 0,
      "outputs": []
    },
    {
      "metadata": {
        "id": "767MnbCPGJbu",
        "colab_type": "code",
        "colab": {}
      },
      "cell_type": "code",
      "source": [
        "def forwardprop(x, weight):\n",
        "    xw = x.dot(weight)\n",
        "    A = sigmoid(xw)\n",
        "    return A"
      ],
      "execution_count": 0,
      "outputs": []
    },
    {
      "metadata": {
        "id": "Z9bbIMEMbYou",
        "colab_type": "code",
        "colab": {}
      },
      "cell_type": "code",
      "source": [
        "def mse_loss(y, y_hat):\n",
        "    l = 0.5*np.mean((y_hat-y)**2)\n",
        "    return l"
      ],
      "execution_count": 0,
      "outputs": []
    },
    {
      "metadata": {
        "id": "4nvn11l2b69e",
        "colab_type": "code",
        "outputId": "3d150845-4f8e-47a9-b07a-b4c897c0d987",
        "colab": {
          "base_uri": "https://localhost:8080/",
          "height": 350
        }
      },
      "cell_type": "code",
      "source": [
        "## Training the model\n",
        "\n",
        "epochs = 20 #number of epochs\n",
        "minibatchsize = 40 #number of samples in minibatch\n",
        "lr = 0.01 #Learning Rate\n",
        "\n",
        "#initializing Weights and Bias(Bias added as a column of 1 on the left in weight array)\n",
        "\n",
        "\n",
        "for label in range(10):\n",
        "\n",
        "    initial_weight = np.random.randn(nfeatures+1, nclasses)\n",
        "\n",
        "    weight = initial_weight\n",
        "  \n",
        "#     weight_path_mgd = []\n",
        "#     weight_path_mgd.append(weight)\n",
        "\n",
        "    for epoch in range(epochs):\n",
        "        #shuffling the samples\n",
        "        m = np.random.permutation(ntrainsamples)\n",
        "        train_images = train_images_b[m]\n",
        "        train_labels = train_labels_bin[m]\n",
        "\n",
        "        #minibatch SGD\n",
        "        for i in range(0, ntrainsamples, minibatchsize):\n",
        "            train_images_m = train_images[i : i+minibatchsize]\n",
        "#             print(train_images_m.shape)\n",
        "            train_labels_m = train_labels[i : i+minibatchsize]\n",
        "            #print(train_labels_m.shape)\n",
        "            A = forwardprop(train_images_m, weight)\n",
        "#             print(weight.shape)\n",
        "\n",
        "#             train_labels_l = train_labels_m[:,label]\n",
        "#             print(train_labels_l.shape)\n",
        "#             loss = mse_loss(train_labels_l, A))\n",
        "#             if i ==0: print(A.shape) \n",
        "#             train_labels = train_labels_m == label\n",
        "#             train_labels = train_labels_m == label #one-hot encoded train_labels\n",
        "#             print(train_labels.shape)\n",
        "#             print(A.shape)\n",
        "#             break\n",
        "#             print(train_labels[])\n",
        "#             if i ==0 & epoch == 0: print(train_labels_m.shape)\n",
        "#             if i ==0 & epoch == 0: print(train_labels_m[:,label])\n",
        "            \n",
        "            train_labels_l = train_labels_m[:,label]\n",
        "            train_labels_l = train_labels_l.reshape((minibatchsize,1))\n",
        "#             print(train_labels_l.shape)\n",
        "#\n",
        "#             print(train_labels_l.shape)\n",
        "            loss = mse_loss(train_labels_l, A)\n",
        "            \n",
        "# # #             # Updating Weights and Biases\n",
        "#             print(dw.shape)\n",
        "\n",
        "#             print(train_images_m.shape)\n",
        "#             print(\"A.shape\", A.shape)\n",
        "#             print(\"train_labels_l.ndim=\",train_labels_l.ndim)\n",
        "#             print(\"train_labels_l.shape=\",train_labels_l.shape)\n",
        "            \n",
        "#             print(minibatchsize)\n",
        "\n",
        "            dw = deriv(train_images_m, train_labels_l, A , minibatchsize)\n",
        "            weight = weight - lr*dw\n",
        "            \n",
        "#             print(A.shape)\n",
        "\n",
        "            #print(\"weight.shape=\", weight.shape)\n",
        "            #break\n",
        "#             weight_path_mgd.append(weight)\n",
        "     weight_path_mgd = np.array([])\n",
        "     weight_path_mgd = np.c_[weight_path_mgd , weight.reshape((785,1))]\n",
        "      \n",
        "    print(weight_path_mgd.shape)\n",
        "# weight_path_mgd.append(weight)\n",
        "#        print(('Epoch {}/{} --- Training Loss {}'.format(epoch+1 , epochs, np.mean(loss))))\n",
        "#     print(('Label {} Running, Loss = {}'.format(label,loss)))\n"
      ],
      "execution_count": 16,
      "outputs": [
        {
          "output_type": "error",
          "ename": "ValueError",
          "evalue": "ignored",
          "traceback": [
            "\u001b[0;31m---------------------------------------------------------------------------\u001b[0m",
            "\u001b[0;31mValueError\u001b[0m                                Traceback (most recent call last)",
            "\u001b[0;32m<ipython-input-16-afef505464cf>\u001b[0m in \u001b[0;36m<module>\u001b[0;34m()\u001b[0m\n\u001b[1;32m     79\u001b[0m \u001b[0;31m#             weight_path_mgd.append(weight)\u001b[0m\u001b[0;34m\u001b[0m\u001b[0;34m\u001b[0m\u001b[0;34m\u001b[0m\u001b[0m\n\u001b[1;32m     80\u001b[0m     \u001b[0mweight_path_mgd\u001b[0m \u001b[0;34m=\u001b[0m \u001b[0mnp\u001b[0m\u001b[0;34m.\u001b[0m\u001b[0marray\u001b[0m\u001b[0;34m(\u001b[0m\u001b[0;34m[\u001b[0m\u001b[0;34m]\u001b[0m\u001b[0;34m)\u001b[0m\u001b[0;34m\u001b[0m\u001b[0;34m\u001b[0m\u001b[0m\n\u001b[0;32m---> 81\u001b[0;31m     \u001b[0mweight_path_mgd\u001b[0m \u001b[0;34m=\u001b[0m \u001b[0mnp\u001b[0m\u001b[0;34m.\u001b[0m\u001b[0mc_\u001b[0m\u001b[0;34m[\u001b[0m\u001b[0mweight_path_mgd\u001b[0m \u001b[0;34m,\u001b[0m \u001b[0mweight\u001b[0m\u001b[0;34m.\u001b[0m\u001b[0mreshape\u001b[0m\u001b[0;34m(\u001b[0m\u001b[0;34m(\u001b[0m\u001b[0;36m785\u001b[0m\u001b[0;34m,\u001b[0m\u001b[0;36m1\u001b[0m\u001b[0;34m)\u001b[0m\u001b[0;34m)\u001b[0m\u001b[0;34m]\u001b[0m\u001b[0;34m\u001b[0m\u001b[0;34m\u001b[0m\u001b[0m\n\u001b[0m\u001b[1;32m     82\u001b[0m \u001b[0;34m\u001b[0m\u001b[0m\n\u001b[1;32m     83\u001b[0m     \u001b[0mprint\u001b[0m\u001b[0;34m(\u001b[0m\u001b[0mweight_path_mgd\u001b[0m\u001b[0;34m.\u001b[0m\u001b[0mshape\u001b[0m\u001b[0;34m)\u001b[0m\u001b[0;34m\u001b[0m\u001b[0;34m\u001b[0m\u001b[0m\n",
            "\u001b[0;32m/usr/local/lib/python3.6/dist-packages/numpy/lib/index_tricks.py\u001b[0m in \u001b[0;36m__getitem__\u001b[0;34m(self, key)\u001b[0m\n\u001b[1;32m    338\u001b[0m                 \u001b[0mobjs\u001b[0m\u001b[0;34m[\u001b[0m\u001b[0mk\u001b[0m\u001b[0;34m]\u001b[0m \u001b[0;34m=\u001b[0m \u001b[0mobjs\u001b[0m\u001b[0;34m[\u001b[0m\u001b[0mk\u001b[0m\u001b[0;34m]\u001b[0m\u001b[0;34m.\u001b[0m\u001b[0mastype\u001b[0m\u001b[0;34m(\u001b[0m\u001b[0mfinal_dtype\u001b[0m\u001b[0;34m)\u001b[0m\u001b[0;34m\u001b[0m\u001b[0;34m\u001b[0m\u001b[0m\n\u001b[1;32m    339\u001b[0m \u001b[0;34m\u001b[0m\u001b[0m\n\u001b[0;32m--> 340\u001b[0;31m         \u001b[0mres\u001b[0m \u001b[0;34m=\u001b[0m \u001b[0mself\u001b[0m\u001b[0;34m.\u001b[0m\u001b[0mconcatenate\u001b[0m\u001b[0;34m(\u001b[0m\u001b[0mtuple\u001b[0m\u001b[0;34m(\u001b[0m\u001b[0mobjs\u001b[0m\u001b[0;34m)\u001b[0m\u001b[0;34m,\u001b[0m \u001b[0maxis\u001b[0m\u001b[0;34m=\u001b[0m\u001b[0maxis\u001b[0m\u001b[0;34m)\u001b[0m\u001b[0;34m\u001b[0m\u001b[0;34m\u001b[0m\u001b[0m\n\u001b[0m\u001b[1;32m    341\u001b[0m \u001b[0;34m\u001b[0m\u001b[0m\n\u001b[1;32m    342\u001b[0m         \u001b[0;32mif\u001b[0m \u001b[0mmatrix\u001b[0m\u001b[0;34m:\u001b[0m\u001b[0;34m\u001b[0m\u001b[0;34m\u001b[0m\u001b[0m\n",
            "\u001b[0;31mValueError\u001b[0m: all the input array dimensions except for the concatenation axis must match exactly"
          ]
        }
      ]
    },
    {
      "metadata": {
        "id": "KRyhq33SuFrN",
        "colab_type": "code",
        "colab": {
          "base_uri": "https://localhost:8080/",
          "height": 51
        },
        "outputId": "1891a04e-1fed-4610-9c38-afc0b51abe11"
      },
      "cell_type": "code",
      "source": [
        "print(loss)\n",
        "print(weight.shape)"
      ],
      "execution_count": 10,
      "outputs": [
        {
          "output_type": "stream",
          "text": [
            "0.049991013198969286\n",
            "(785, 1)\n"
          ],
          "name": "stdout"
        }
      ]
    },
    {
      "metadata": {
        "id": "BqAppiwh6-UD",
        "colab_type": "code",
        "colab": {}
      },
      "cell_type": "code",
      "source": [
        ""
      ],
      "execution_count": 0,
      "outputs": []
    }
  ]
}