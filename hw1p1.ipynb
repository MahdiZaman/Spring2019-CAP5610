####Problem 1 of Homework 1 - CAP5610
