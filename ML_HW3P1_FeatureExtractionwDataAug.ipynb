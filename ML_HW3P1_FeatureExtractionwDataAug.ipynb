{
  "nbformat": 4,
  "nbformat_minor": 0,
  "metadata": {
    "colab": {
      "name": "ML_HW3P1_FeatureExtractionwDataAug.ipynb",
      "version": "0.3.2",
      "provenance": [],
      "collapsed_sections": [],
      "include_colab_link": true
    },
    "kernelspec": {
      "name": "python3",
      "display_name": "Python 3"
    },
    "accelerator": "GPU"
  },
  "cells": [
    {
      "cell_type": "markdown",
      "metadata": {
        "id": "view-in-github",
        "colab_type": "text"
      },
      "source": [
        "<a href=\"https://colab.research.google.com/github/MahdiZaman/Spring2019-CAP5610/blob/master/ML_HW3P1_FeatureExtractionwDataAug.ipynb\" target=\"_parent\"><img src=\"https://colab.research.google.com/assets/colab-badge.svg\" alt=\"Open In Colab\"/></a>"
      ]
    },
    {
      "metadata": {
        "id": "z1QvfuBoGQzL",
        "colab_type": "text"
      },
      "cell_type": "markdown",
      "source": [
        "********Problem 1********\n",
        "\n",
        "---\n",
        "\n",
        "\n",
        "\n",
        "**Download The Data**"
      ]
    },
    {
      "metadata": {
        "id": "y9Xcdc0yiTsb",
        "colab_type": "code",
        "outputId": "ae789a13-8ae4-47c0-f231-c78d5af505ca",
        "colab": {
          "base_uri": "https://localhost:8080/",
          "height": 211
        }
      },
      "cell_type": "code",
      "source": [
        "!wget --no-check-certificate \\\n",
        "    https://storage.googleapis.com/mledu-datasets/cats_and_dogs_filtered.zip \\\n",
        "    -O /tmp/cats_and_dogs_filtered.zip"
      ],
      "execution_count": 0,
      "outputs": [
        {
          "output_type": "stream",
          "text": [
            "--2019-04-16 22:09:48--  https://storage.googleapis.com/mledu-datasets/cats_and_dogs_filtered.zip\n",
            "Resolving storage.googleapis.com (storage.googleapis.com)... 74.125.135.128, 2607:f8b0:400e:c08::80\n",
            "Connecting to storage.googleapis.com (storage.googleapis.com)|74.125.135.128|:443... connected.\n",
            "HTTP request sent, awaiting response... 200 OK\n",
            "Length: 68606236 (65M) [application/zip]\n",
            "Saving to: ‘/tmp/cats_and_dogs_filtered.zip’\n",
            "\n",
            "/tmp/cats_and_dogs_ 100%[===================>]  65.43M   111MB/s    in 0.6s    \n",
            "\n",
            "2019-04-16 22:09:49 (111 MB/s) - ‘/tmp/cats_and_dogs_filtered.zip’ saved [68606236/68606236]\n",
            "\n"
          ],
          "name": "stdout"
        }
      ]
    },
    {
      "metadata": {
        "id": "wU_7IUTZiplF",
        "colab_type": "code",
        "colab": {}
      },
      "cell_type": "code",
      "source": [
        "import os\n",
        "import zipfile\n",
        "\n",
        "local_zip = '/tmp/cats_and_dogs_filtered.zip'\n",
        "zip_ref = zipfile.ZipFile(local_zip, 'r')\n",
        "zip_ref.extractall('/tmp')\n",
        "zip_ref.close()"
      ],
      "execution_count": 0,
      "outputs": []
    },
    {
      "metadata": {
        "id": "xHWs3_RXjNsb",
        "colab_type": "code",
        "colab": {}
      },
      "cell_type": "code",
      "source": [
        "base_dir = '/tmp/cats_and_dogs_filtered'\n",
        "train_dir = os.path.join(base_dir, 'train')\n",
        "validation_dir = os.path.join(base_dir, 'validation')\n",
        "\n",
        "# Directory with our training cat pictures\n",
        "train_cats_dir = os.path.join(train_dir, 'cats')\n",
        "\n",
        "# Directory with our training dog pictures\n",
        "train_dogs_dir = os.path.join(train_dir, 'dogs')\n",
        "\n",
        "# Directory with our validation cat pictures\n",
        "validation_cats_dir = os.path.join(validation_dir, 'cats')\n",
        "\n",
        "# Directory with our validation dog pictures\n",
        "validation_dogs_dir = os.path.join(validation_dir, 'dogs')"
      ],
      "execution_count": 0,
      "outputs": []
    },
    {
      "metadata": {
        "id": "f4NoUltcGvh_",
        "colab_type": "text"
      },
      "cell_type": "markdown",
      "source": [
        "**Loading the convolutional base**"
      ]
    },
    {
      "metadata": {
        "id": "Ff_txAo2jVFq",
        "colab_type": "code",
        "outputId": "70521828-045d-4c0a-fbf3-3a54bde6c50f",
        "colab": {
          "base_uri": "https://localhost:8080/",
          "height": 915
        }
      },
      "cell_type": "code",
      "source": [
        "from keras.applications import VGG19\n",
        "\n",
        "conv_base = VGG19(\n",
        "    weights='imagenet', \n",
        "    include_top=False, \n",
        "    input_shape=(150, 150, 3))\n",
        "\n",
        "conv_base.summary()"
      ],
      "execution_count": 0,
      "outputs": [
        {
          "output_type": "stream",
          "text": [
            "_________________________________________________________________\n",
            "Layer (type)                 Output Shape              Param #   \n",
            "=================================================================\n",
            "input_2 (InputLayer)         (None, 150, 150, 3)       0         \n",
            "_________________________________________________________________\n",
            "block1_conv1 (Conv2D)        (None, 150, 150, 64)      1792      \n",
            "_________________________________________________________________\n",
            "block1_conv2 (Conv2D)        (None, 150, 150, 64)      36928     \n",
            "_________________________________________________________________\n",
            "block1_pool (MaxPooling2D)   (None, 75, 75, 64)        0         \n",
            "_________________________________________________________________\n",
            "block2_conv1 (Conv2D)        (None, 75, 75, 128)       73856     \n",
            "_________________________________________________________________\n",
            "block2_conv2 (Conv2D)        (None, 75, 75, 128)       147584    \n",
            "_________________________________________________________________\n",
            "block2_pool (MaxPooling2D)   (None, 37, 37, 128)       0         \n",
            "_________________________________________________________________\n",
            "block3_conv1 (Conv2D)        (None, 37, 37, 256)       295168    \n",
            "_________________________________________________________________\n",
            "block3_conv2 (Conv2D)        (None, 37, 37, 256)       590080    \n",
            "_________________________________________________________________\n",
            "block3_conv3 (Conv2D)        (None, 37, 37, 256)       590080    \n",
            "_________________________________________________________________\n",
            "block3_conv4 (Conv2D)        (None, 37, 37, 256)       590080    \n",
            "_________________________________________________________________\n",
            "block3_pool (MaxPooling2D)   (None, 18, 18, 256)       0         \n",
            "_________________________________________________________________\n",
            "block4_conv1 (Conv2D)        (None, 18, 18, 512)       1180160   \n",
            "_________________________________________________________________\n",
            "block4_conv2 (Conv2D)        (None, 18, 18, 512)       2359808   \n",
            "_________________________________________________________________\n",
            "block4_conv3 (Conv2D)        (None, 18, 18, 512)       2359808   \n",
            "_________________________________________________________________\n",
            "block4_conv4 (Conv2D)        (None, 18, 18, 512)       2359808   \n",
            "_________________________________________________________________\n",
            "block4_pool (MaxPooling2D)   (None, 9, 9, 512)         0         \n",
            "_________________________________________________________________\n",
            "block5_conv1 (Conv2D)        (None, 9, 9, 512)         2359808   \n",
            "_________________________________________________________________\n",
            "block5_conv2 (Conv2D)        (None, 9, 9, 512)         2359808   \n",
            "_________________________________________________________________\n",
            "block5_conv3 (Conv2D)        (None, 9, 9, 512)         2359808   \n",
            "_________________________________________________________________\n",
            "block5_conv4 (Conv2D)        (None, 9, 9, 512)         2359808   \n",
            "_________________________________________________________________\n",
            "block5_pool (MaxPooling2D)   (None, 4, 4, 512)         0         \n",
            "=================================================================\n",
            "Total params: 20,024,384\n",
            "Trainable params: 20,024,384\n",
            "Non-trainable params: 0\n",
            "_________________________________________________________________\n"
          ],
          "name": "stdout"
        }
      ]
    },
    {
      "metadata": {
        "id": "SkRxZTupG2bU",
        "colab_type": "text"
      },
      "cell_type": "markdown",
      "source": [
        "**Freezing the Convolutional Base**"
      ]
    },
    {
      "metadata": {
        "id": "HKV28PngkiwQ",
        "colab_type": "code",
        "colab": {}
      },
      "cell_type": "code",
      "source": [
        "conv_base.trainable = False"
      ],
      "execution_count": 0,
      "outputs": []
    },
    {
      "metadata": {
        "id": "g2xnY4CRHGHR",
        "colab_type": "text"
      },
      "cell_type": "markdown",
      "source": [
        "**Concatenating the convolutional base and densely connected layers**"
      ]
    },
    {
      "metadata": {
        "id": "j4EmNf3DkmdP",
        "colab_type": "code",
        "outputId": "11055781-b9a2-44f4-e53b-cd0e4cc3cd05",
        "colab": {
          "base_uri": "https://localhost:8080/",
          "height": 281
        }
      },
      "cell_type": "code",
      "source": [
        "from keras import layers\n",
        "from keras import models\n",
        "from keras import optimizers\n",
        "\n",
        "#\n",
        "model = models.Sequential()\n",
        "model.add(conv_base)\n",
        "model.add(layers.Flatten())\n",
        "model.add(layers.Dense(256, activation='relu'))\n",
        "#model.add(layers.Dropout(0.1))\n",
        "model.add(layers.Dense(1, activation='sigmoid'))\n",
        "#\n",
        "\n",
        "model.summary()"
      ],
      "execution_count": 0,
      "outputs": [
        {
          "output_type": "stream",
          "text": [
            "_________________________________________________________________\n",
            "Layer (type)                 Output Shape              Param #   \n",
            "=================================================================\n",
            "vgg19 (Model)                (None, 4, 4, 512)         20024384  \n",
            "_________________________________________________________________\n",
            "flatten_2 (Flatten)          (None, 8192)              0         \n",
            "_________________________________________________________________\n",
            "dense_3 (Dense)              (None, 256)               2097408   \n",
            "_________________________________________________________________\n",
            "dense_4 (Dense)              (None, 1)                 257       \n",
            "=================================================================\n",
            "Total params: 22,122,049\n",
            "Trainable params: 2,097,665\n",
            "Non-trainable params: 20,024,384\n",
            "_________________________________________________________________\n"
          ],
          "name": "stdout"
        }
      ]
    },
    {
      "metadata": {
        "id": "Ma5wq7aEHPto",
        "colab_type": "text"
      },
      "cell_type": "markdown",
      "source": [
        "**Training the model end to end with frozen convolutional base**"
      ]
    },
    {
      "metadata": {
        "id": "ciOMS6Dikuju",
        "colab_type": "code",
        "outputId": "88e8d4b6-3837-4e58-f386-a95dc840f1f1",
        "colab": {
          "base_uri": "https://localhost:8080/",
          "height": 1181
        }
      },
      "cell_type": "code",
      "source": [
        "from keras.preprocessing.image import ImageDataGenerator\n",
        "from keras import optimizers\n",
        "\n",
        "# data augmentation\n",
        "\n",
        "train_datagen = ImageDataGenerator(\n",
        "    rescale=1./255, \n",
        "    rotation_range=40,\n",
        "    width_shift_range=0.2,\n",
        "    height_shift_range=0.2,\n",
        "    shear_range=0.2,\n",
        "    zoom_range=0.2,\n",
        "    horizontal_flip=True,\n",
        "    fill_mode='nearest'\n",
        ")\n",
        "\n",
        "train_generator = train_datagen.flow_from_directory(\n",
        "    train_dir,\n",
        "    target_size=(150, 150),\n",
        "    batch_size=20,\n",
        "    class_mode='binary')\n",
        "\n",
        "validation_datagen = ImageDataGenerator(rescale=1./255)\n",
        "\n",
        "validation_generator = validation_datagen.flow_from_directory(\n",
        "    validation_dir,\n",
        "    target_size=(150, 150),\n",
        "    batch_size=20,\n",
        "    class_mode='binary')\n",
        "\n",
        "# compile model\n",
        "\n",
        "model.compile(\n",
        "    loss='binary_crossentropy', \n",
        "    optimizer=optimizers.RMSprop(lr=2e-5), \n",
        "    metrics=['acc'])\n",
        "\n",
        "# train\n",
        "\n",
        "history = model.fit_generator(\n",
        "    train_generator,\n",
        "    steps_per_epoch=100,\n",
        "    epochs=30,\n",
        "    validation_data=validation_generator,\n",
        "    validation_steps=50\n",
        ")"
      ],
      "execution_count": 0,
      "outputs": [
        {
          "output_type": "stream",
          "text": [
            "Found 2000 images belonging to 2 classes.\n",
            "Found 1000 images belonging to 2 classes.\n",
            "WARNING:tensorflow:From /usr/local/lib/python3.6/dist-packages/tensorflow/python/ops/math_ops.py:3066: to_int32 (from tensorflow.python.ops.math_ops) is deprecated and will be removed in a future version.\n",
            "Instructions for updating:\n",
            "Use tf.cast instead.\n",
            "Epoch 1/30\n",
            "100/100 [==============================] - 23s 228ms/step - loss: 0.6135 - acc: 0.6770 - val_loss: 0.4791 - val_acc: 0.8030\n",
            "Epoch 2/30\n",
            "100/100 [==============================] - 17s 174ms/step - loss: 0.5151 - acc: 0.7585 - val_loss: 0.4165 - val_acc: 0.8170\n",
            "Epoch 3/30\n",
            "100/100 [==============================] - 18s 176ms/step - loss: 0.4718 - acc: 0.7825 - val_loss: 0.3688 - val_acc: 0.8430\n",
            "Epoch 4/30\n",
            "100/100 [==============================] - 18s 182ms/step - loss: 0.4471 - acc: 0.7915 - val_loss: 0.4226 - val_acc: 0.7960\n",
            "Epoch 5/30\n",
            "100/100 [==============================] - 18s 182ms/step - loss: 0.4281 - acc: 0.8180 - val_loss: 0.3324 - val_acc: 0.8490\n",
            "Epoch 6/30\n",
            "100/100 [==============================] - 18s 180ms/step - loss: 0.4118 - acc: 0.8195 - val_loss: 0.3204 - val_acc: 0.8550\n",
            "Epoch 7/30\n",
            "100/100 [==============================] - 18s 179ms/step - loss: 0.3967 - acc: 0.8210 - val_loss: 0.3133 - val_acc: 0.8530\n",
            "Epoch 8/30\n",
            "100/100 [==============================] - 18s 178ms/step - loss: 0.3824 - acc: 0.8230 - val_loss: 0.2985 - val_acc: 0.8730\n",
            "Epoch 9/30\n",
            "100/100 [==============================] - 19s 191ms/step - loss: 0.3895 - acc: 0.8200 - val_loss: 0.2984 - val_acc: 0.8590\n",
            "Epoch 10/30\n",
            "100/100 [==============================] - 18s 178ms/step - loss: 0.3748 - acc: 0.8335 - val_loss: 0.2856 - val_acc: 0.8760\n",
            "Epoch 11/30\n",
            "100/100 [==============================] - 18s 180ms/step - loss: 0.3845 - acc: 0.8280 - val_loss: 0.2839 - val_acc: 0.8840\n",
            "Epoch 12/30\n",
            "100/100 [==============================] - 18s 182ms/step - loss: 0.3706 - acc: 0.8295 - val_loss: 0.2871 - val_acc: 0.8790\n",
            "Epoch 13/30\n",
            "100/100 [==============================] - 19s 194ms/step - loss: 0.3604 - acc: 0.8400 - val_loss: 0.3173 - val_acc: 0.8700\n",
            "Epoch 14/30\n",
            "100/100 [==============================] - 18s 179ms/step - loss: 0.3593 - acc: 0.8405 - val_loss: 0.2966 - val_acc: 0.8740\n",
            "Epoch 15/30\n",
            "100/100 [==============================] - 18s 178ms/step - loss: 0.3666 - acc: 0.8355 - val_loss: 0.2739 - val_acc: 0.8780\n",
            "Epoch 16/30\n",
            "100/100 [==============================] - 18s 180ms/step - loss: 0.3557 - acc: 0.8475 - val_loss: 0.2707 - val_acc: 0.8820\n",
            "Epoch 17/30\n",
            "100/100 [==============================] - 18s 181ms/step - loss: 0.3507 - acc: 0.8445 - val_loss: 0.2719 - val_acc: 0.8720\n",
            "Epoch 18/30\n",
            "100/100 [==============================] - 19s 189ms/step - loss: 0.3448 - acc: 0.8435 - val_loss: 0.2707 - val_acc: 0.8840\n",
            "Epoch 19/30\n",
            "100/100 [==============================] - 18s 180ms/step - loss: 0.3392 - acc: 0.8505 - val_loss: 0.2778 - val_acc: 0.8840\n",
            "Epoch 20/30\n",
            "100/100 [==============================] - 18s 180ms/step - loss: 0.3386 - acc: 0.8445 - val_loss: 0.2645 - val_acc: 0.8850\n",
            "Epoch 21/30\n",
            "100/100 [==============================] - 18s 179ms/step - loss: 0.3365 - acc: 0.8515 - val_loss: 0.2668 - val_acc: 0.8800\n",
            "Epoch 22/30\n",
            "100/100 [==============================] - 19s 191ms/step - loss: 0.3211 - acc: 0.8615 - val_loss: 0.2795 - val_acc: 0.8770\n",
            "Epoch 23/30\n",
            "100/100 [==============================] - 18s 179ms/step - loss: 0.3182 - acc: 0.8595 - val_loss: 0.2667 - val_acc: 0.8810\n",
            "Epoch 24/30\n",
            "100/100 [==============================] - 18s 180ms/step - loss: 0.3271 - acc: 0.8540 - val_loss: 0.2801 - val_acc: 0.8790\n",
            "Epoch 25/30\n",
            "100/100 [==============================] - 18s 180ms/step - loss: 0.3135 - acc: 0.8580 - val_loss: 0.2838 - val_acc: 0.8630\n",
            "Epoch 26/30\n",
            "100/100 [==============================] - 19s 189ms/step - loss: 0.3329 - acc: 0.8515 - val_loss: 0.2763 - val_acc: 0.8830\n",
            "Epoch 27/30\n",
            "100/100 [==============================] - 18s 185ms/step - loss: 0.3223 - acc: 0.8555 - val_loss: 0.2691 - val_acc: 0.8840\n",
            "Epoch 28/30\n",
            "100/100 [==============================] - 18s 179ms/step - loss: 0.3139 - acc: 0.8600 - val_loss: 0.2759 - val_acc: 0.8860\n",
            "Epoch 29/30\n",
            "100/100 [==============================] - 18s 183ms/step - loss: 0.3251 - acc: 0.8540 - val_loss: 0.2589 - val_acc: 0.8890\n",
            "Epoch 30/30\n",
            "100/100 [==============================] - 19s 185ms/step - loss: 0.3122 - acc: 0.8550 - val_loss: 0.3121 - val_acc: 0.8660\n"
          ],
          "name": "stdout"
        }
      ]
    },
    {
      "metadata": {
        "id": "hUaRn05aNgj_",
        "colab_type": "text"
      },
      "cell_type": "markdown",
      "source": [
        "**Displaying Accuracy and Loss in Training and Validation phase**"
      ]
    },
    {
      "metadata": {
        "id": "Rgx9WgZ5kZp3",
        "colab_type": "code",
        "outputId": "774ac8f8-e36d-43c8-f195-4ad1d2e7676c",
        "colab": {
          "base_uri": "https://localhost:8080/",
          "height": 545
        }
      },
      "cell_type": "code",
      "source": [
        "%matplotlib inline\n",
        "\n",
        "import matplotlib.pyplot as plt\n",
        "\n",
        "acc = history.history['acc']\n",
        "val_acc = history.history['val_acc']\n",
        "\n",
        "loss = history.history['loss']\n",
        "val_loss = history.history['val_loss']\n",
        "\n",
        "epochs = range(1, len(acc) + 1)\n",
        "\n",
        "# training and validation accuracy\n",
        "\n",
        "plt.plot(epochs, acc, 'bo', label='training acc')\n",
        "plt.plot(epochs, val_acc, 'b', label='validation acc')\n",
        "plt.title('training and validation accuracy')\n",
        "plt.legend()\n",
        "\n",
        "plt.figure()\n",
        "\n",
        "# training and validation loss\n",
        "\n",
        "plt.plot(epochs, loss, 'bo', label='training loss')\n",
        "plt.plot(epochs, val_loss, 'b', label='validation loss')\n",
        "plt.title('training and validation loss')\n",
        "plt.legend()\n",
        "\n",
        "plt.show()"
      ],
      "execution_count": 0,
      "outputs": [
        {
          "output_type": "display_data",
          "data": {
            "image/png": "[encoded data removed]",
            "text/plain": [
              "<Figure size 432x288 with 1 Axes>"
            ]
          },
          "metadata": {
            "tags": []
          }
        },
        {
          "output_type": "display_data",
          "data": {
            "image/png": "[encoded data removed]",
            "text/plain": [
              "<Figure size 432x288 with 1 Axes>"
            ]
          },
          "metadata": {
            "tags": []
          }
        }
      ]
    },
    {
      "metadata": {
        "id": "cYxeFtlHH2e-",
        "colab_type": "code",
        "outputId": "89171908-ab02-43b4-8f47-45c594f29492",
        "colab": {
          "base_uri": "https://localhost:8080/",
          "height": 52
        }
      },
      "cell_type": "code",
      "source": [
        "val_loss, val_acc = model.evaluate_generator(validation_generator, steps=50)\n",
        "\n",
        "#\n",
        "print(\"Validation loss:\", val_loss)\n",
        "print(\"Validation accuracy:\", val_acc)\n",
        "#"
      ],
      "execution_count": 0,
      "outputs": [
        {
          "output_type": "stream",
          "text": [
            "Validation loss: 0.2989466726779938\n",
            "Validation accuracy: 0.8739999985694885\n"
          ],
          "name": "stdout"
        }
      ]
    },
    {
      "metadata": {
        "id": "Baas4DjeNxWn",
        "colab_type": "text"
      },
      "cell_type": "markdown",
      "source": [
        "**Saving the model in Colab**"
      ]
    },
    {
      "metadata": {
        "id": "koxWnNn2ILmU",
        "colab_type": "code",
        "outputId": "d8958abb-f55e-4f4b-ef29-9e91bbdaf67e",
        "colab": {
          "base_uri": "https://localhost:8080/",
          "height": 35
        }
      },
      "cell_type": "code",
      "source": [
        "model_fname = 'catsdogsclassifier.h5' \n",
        "model.save(model_fname)\n",
        "print(\"Model saved in Colab\")"
      ],
      "execution_count": 0,
      "outputs": [
        {
          "output_type": "stream",
          "text": [
            "Model saved in Colab\n"
          ],
          "name": "stdout"
        }
      ]
    },
    {
      "metadata": {
        "id": "nHFw2GXNJhVB",
        "colab_type": "code",
        "outputId": "48ec7d78-8072-43a4-efc6-6280a1bd3141",
        "colab": {
          "base_uri": "https://localhost:8080/",
          "height": 52
        }
      },
      "cell_type": "code",
      "source": [
        "# from google.colab import files\n",
        "\n",
        "# with open(model_fname, 'r') as f:\n",
        "#   files.download(model_fname)\n",
        "print(\"Model downloaded on Local disk\")\n",
        "print(\"Problem 1 Ends\")"
      ],
      "execution_count": 0,
      "outputs": [
        {
          "output_type": "stream",
          "text": [
            "Model downloaded on Local disk\n",
            "Problem 1 Ends\n"
          ],
          "name": "stdout"
        }
      ]
    }
  ]
}