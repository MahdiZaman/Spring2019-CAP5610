{
  "nbformat": 4,
  "nbformat_minor": 0,
  "metadata": {
    "colab": {
      "name": "hw1p5.ipynb",
      "version": "0.3.2",
      "provenance": [],
      "collapsed_sections": [],
      "include_colab_link": true
    },
    "kernelspec": {
      "name": "python3",
      "display_name": "Python 3"
    },
    "accelerator": "GPU"
  },
  "cells": [
    {
      "cell_type": "markdown",
      "metadata": {
        "id": "view-in-github",
        "colab_type": "text"
      },
      "source": [
        "<a href=\"https://colab.research.google.com/github/MahdiZaman/Spring2019-CAP5610/blob/master/hw1p5.ipynb\" target=\"_parent\"><img src=\"https://colab.research.google.com/assets/colab-badge.svg\" alt=\"Open In Colab\"/></a>"
      ]
    },
    {
      "metadata": {
        "id": "CT_8J1c2mKFQ",
        "colab_type": "code",
        "colab": {
          "base_uri": "https://localhost:8080/",
          "height": 67
        },
        "outputId": "271dadfc-81d4-4b03-f5fb-2ada60f089e4"
      },
      "cell_type": "code",
      "source": [
        "from keras.datasets import mnist\n",
        "(train_images_original, train_labels_original), (test_images_original, test_labels_original) = mnist.load_data()"
      ],
      "execution_count": 3,
      "outputs": [
        {
          "output_type": "stream",
          "text": [
            "Using TensorFlow backend.\n"
          ],
          "name": "stderr"
        },
        {
          "output_type": "stream",
          "text": [
            "Downloading data from https://s3.amazonaws.com/img-datasets/mnist.npz\n",
            "11493376/11490434 [==============================] - 1s 0us/step\n"
          ],
          "name": "stdout"
        }
      ]
    },
    {
      "metadata": {
        "id": "XZ_ULWVRmSdw",
        "colab_type": "code",
        "colab": {}
      },
      "cell_type": "code",
      "source": [
        "import numpy as np\n",
        "# train_images_r = train_images_original.reshape((60000, 28 * 28))\n",
        "train_images = np.round(train_images_original.astype('float32') / 255)\n",
        "\n",
        "# test_images_r = test_images_original.reshape((10000, 28 * 28))\n",
        "# test_images_n = test_images_r.astype('float32') / 255\n",
        "test_images = np.round(test_images_original.astype('float32') / 255)\n",
        "# print(train_images.shape)\n",
        "\n",
        "ntrain = train_images.shape[0]\n",
        "ntest = test_images.shape[0]"
      ],
      "execution_count": 0,
      "outputs": []
    },
    {
      "metadata": {
        "id": "4Amn2cGSmVuv",
        "colab_type": "code",
        "colab": {}
      },
      "cell_type": "code",
      "source": [
        "from keras.utils import to_categorical\n",
        "train_labels = to_categorical(train_labels_original)\n",
        "test_labels = to_categorical(test_labels_original)"
      ],
      "execution_count": 0,
      "outputs": []
    },
    {
      "metadata": {
        "id": "_LC6LacwmgEv",
        "colab_type": "code",
        "colab": {}
      },
      "cell_type": "code",
      "source": [
        "class Graph: \n",
        "  \n",
        "    def __init__(self, row, col, g): \n",
        "            self.ROW = row \n",
        "            self.COL = col \n",
        "            self.graph = g \n",
        "\n",
        "    def isSafe(self, i, j, visited): \n",
        "        return (i >= 0 and i < self.ROW and \n",
        "                j >= 0 and j < self.COL and \n",
        "                not visited[i][j] and not self.graph[i][j]) \n",
        "\n",
        "    def DFS(self, i, j, visited): \n",
        "        rowNbr = [-1, -1, -1,  0, 0,  1, 1, 1]; \n",
        "        colNbr = [-1,  0,  1, -1, 1, -1, 0, 1]; \n",
        "\n",
        "        visited[i][j] = True\n",
        "\n",
        "        # Recur for all connected neighbours \n",
        "        for k in range(8): \n",
        "            if self.isSafe(i + rowNbr[k], j + colNbr[k], visited): \n",
        "                self.DFS(i + rowNbr[k], j + colNbr[k], visited) \n",
        "\n",
        "    def countIslands(self): \n",
        "        # Make a bool array to mark visited cells. \n",
        "        # Initially all cells are unvisited \n",
        "        visited = [[False for j in range(self.COL)]for i in range(self.ROW)] \n",
        "\n",
        "        \n",
        "        count = 0\n",
        "        for i in range(self.ROW): \n",
        "            for j in range(self.COL): \n",
        "                # If a cell with value 1 is not visited yet,  \n",
        "                # then new island found \n",
        "                if visited[i][j] == False and self.graph[i][j] == 0:  \n",
        "                    # Visit all cells in this island  \n",
        "                    # and increment island count \n",
        "                    self.DFS(i, j, visited) \n",
        "                    count += 1\n",
        "\n",
        "        return count "
      ],
      "execution_count": 0,
      "outputs": []
    },
    {
      "metadata": {
        "id": "xt8k4MZlmpF-",
        "colab_type": "code",
        "colab": {}
      },
      "cell_type": "code",
      "source": [
        "traindfs = np.zeros((ntrain,1))\n",
        "for i in range(ntrain):\n",
        "    t = Graph(28,28,train_images[i]).countIslands()\n",
        "    traindfs[i][0] = t\n",
        "    \n",
        "testdfs = np.zeros((ntest,1))\n",
        "for i in range(ntest):\n",
        "    t = Graph(28,28,test_images[i]).countIslands()\n",
        "    testdfs[i][0] = t\n",
        "    \n",
        "traindfsn = traindfs.astype('float32') / np.max(traindfs)\n",
        "testdfsn = testdfs.astype('float32') / np.max(testdfs)"
      ],
      "execution_count": 0,
      "outputs": []
    },
    {
      "metadata": {
        "id": "_Q3Xea4p3cfP",
        "colab_type": "code",
        "colab": {}
      },
      "cell_type": "code",
      "source": [
        "train_images_r = train_images_original.reshape((60000, 28 * 28))\n",
        "train_images_r = train_images_r.astype('float32') / 255 \n",
        "test_images_r = test_images_original.reshape((10000, 28 * 28))\n",
        "test_images_r = test_images_r.astype('float32') / 255 \n",
        "\n",
        "train_images_f = np.c_[train_images_r, traindfsn]\n",
        "test_images_f = np.c_[test_images_r, testdfsn]"
      ],
      "execution_count": 0,
      "outputs": []
    },
    {
      "metadata": {
        "id": "DtTxOCdL4byV",
        "colab_type": "code",
        "colab": {
          "base_uri": "https://localhost:8080/",
          "height": 168
        },
        "outputId": "0364f38b-893f-4056-b191-2cd2933b5ee5"
      },
      "cell_type": "code",
      "source": [
        "from keras import models\n",
        "from keras import layers\n",
        "\n",
        "network = models.Sequential()\n",
        "network.add(layers.Dense(10, activation='softmax', input_shape=(28*28+1,)))\n",
        "network.summary()"
      ],
      "execution_count": 64,
      "outputs": [
        {
          "output_type": "stream",
          "text": [
            "_________________________________________________________________\n",
            "Layer (type)                 Output Shape              Param #   \n",
            "=================================================================\n",
            "dense_2 (Dense)              (None, 10)                7860      \n",
            "=================================================================\n",
            "Total params: 7,860\n",
            "Trainable params: 7,860\n",
            "Non-trainable params: 0\n",
            "_________________________________________________________________\n"
          ],
          "name": "stdout"
        }
      ]
    },
    {
      "metadata": {
        "id": "uYJkYv1U47ay",
        "colab_type": "code",
        "colab": {}
      },
      "cell_type": "code",
      "source": [
        "network.compile(optimizer='sgd',\n",
        "                loss='categorical_crossentropy',\n",
        "                metrics=['accuracy'])"
      ],
      "execution_count": 0,
      "outputs": []
    },
    {
      "metadata": {
        "id": "eRiW_69u5I4R",
        "colab_type": "code",
        "colab": {
          "base_uri": "https://localhost:8080/",
          "height": 706
        },
        "outputId": "d2470a81-b64a-4b65-9938-81f1b7ca1163"
      },
      "cell_type": "code",
      "source": [
        "epochs = 20\n",
        "history = network.fit(train_images_f, \n",
        "                      train_labels, \n",
        "                      epochs=epochs, \n",
        "                      batch_size=64, \n",
        "                      validation_data=(test_images_f, test_labels))"
      ],
      "execution_count": 68,
      "outputs": [
        {
          "output_type": "stream",
          "text": [
            "Train on 60000 samples, validate on 10000 samples\n",
            "Epoch 1/20\n",
            "60000/60000 [==============================] - 2s 27us/step - loss: 0.3956 - acc: 0.8932 - val_loss: 0.3710 - val_acc: 0.9025\n",
            "Epoch 2/20\n",
            "60000/60000 [==============================] - 2s 30us/step - loss: 0.3880 - acc: 0.8952 - val_loss: 0.3644 - val_acc: 0.9034\n",
            "Epoch 3/20\n",
            "60000/60000 [==============================] - 2s 34us/step - loss: 0.3813 - acc: 0.8964 - val_loss: 0.3584 - val_acc: 0.9050\n",
            "Epoch 4/20\n",
            "60000/60000 [==============================] - 2s 34us/step - loss: 0.3754 - acc: 0.8980 - val_loss: 0.3533 - val_acc: 0.9065\n",
            "Epoch 5/20\n",
            "60000/60000 [==============================] - 2s 34us/step - loss: 0.3701 - acc: 0.8991 - val_loss: 0.3486 - val_acc: 0.9073\n",
            "Epoch 6/20\n",
            "60000/60000 [==============================] - 2s 30us/step - loss: 0.3654 - acc: 0.9003 - val_loss: 0.3445 - val_acc: 0.9079\n",
            "Epoch 7/20\n",
            "60000/60000 [==============================] - 2s 30us/step - loss: 0.3611 - acc: 0.9012 - val_loss: 0.3407 - val_acc: 0.9086\n",
            "Epoch 8/20\n",
            "60000/60000 [==============================] - 2s 31us/step - loss: 0.3571 - acc: 0.9024 - val_loss: 0.3373 - val_acc: 0.9092\n",
            "Epoch 9/20\n",
            "60000/60000 [==============================] - 2s 30us/step - loss: 0.3534 - acc: 0.9029 - val_loss: 0.3342 - val_acc: 0.9097\n",
            "Epoch 10/20\n",
            "60000/60000 [==============================] - 2s 29us/step - loss: 0.3501 - acc: 0.9039 - val_loss: 0.3313 - val_acc: 0.9104\n",
            "Epoch 11/20\n",
            "60000/60000 [==============================] - 2s 30us/step - loss: 0.3470 - acc: 0.9045 - val_loss: 0.3284 - val_acc: 0.9110\n",
            "Epoch 12/20\n",
            "60000/60000 [==============================] - 2s 30us/step - loss: 0.3441 - acc: 0.9052 - val_loss: 0.3258 - val_acc: 0.9117\n",
            "Epoch 13/20\n",
            "60000/60000 [==============================] - 2s 30us/step - loss: 0.3414 - acc: 0.9060 - val_loss: 0.3236 - val_acc: 0.9123\n",
            "Epoch 14/20\n",
            "60000/60000 [==============================] - 2s 30us/step - loss: 0.3388 - acc: 0.9064 - val_loss: 0.3213 - val_acc: 0.9124\n",
            "Epoch 15/20\n",
            "60000/60000 [==============================] - 2s 29us/step - loss: 0.3364 - acc: 0.9073 - val_loss: 0.3193 - val_acc: 0.9127\n",
            "Epoch 16/20\n",
            "60000/60000 [==============================] - 2s 29us/step - loss: 0.3341 - acc: 0.9074 - val_loss: 0.3174 - val_acc: 0.9131\n",
            "Epoch 17/20\n",
            "60000/60000 [==============================] - 2s 30us/step - loss: 0.3320 - acc: 0.9078 - val_loss: 0.3157 - val_acc: 0.9136\n",
            "Epoch 18/20\n",
            "60000/60000 [==============================] - 2s 30us/step - loss: 0.3300 - acc: 0.9085 - val_loss: 0.3138 - val_acc: 0.9144\n",
            "Epoch 19/20\n",
            "60000/60000 [==============================] - 2s 30us/step - loss: 0.3280 - acc: 0.9089 - val_loss: 0.3124 - val_acc: 0.9144\n",
            "Epoch 20/20\n",
            "60000/60000 [==============================] - 2s 30us/step - loss: 0.3262 - acc: 0.9094 - val_loss: 0.3107 - val_acc: 0.9155\n"
          ],
          "name": "stdout"
        }
      ]
    },
    {
      "metadata": {
        "id": "kZI-sYLZ5akv",
        "colab_type": "code",
        "colab": {}
      },
      "cell_type": "code",
      "source": [
        "history_dict = history.history\n",
        "loss_values = history_dict['loss']\n",
        "test_loss_values = history_dict['val_loss']\n",
        "epochs_range = range(1, epochs + 1)\n",
        "\n",
        "acc_values = history_dict['acc']\n",
        "test_acc_values = history_dict['val_acc']"
      ],
      "execution_count": 0,
      "outputs": []
    },
    {
      "metadata": {
        "id": "xNy0WGJW55z9",
        "colab_type": "code",
        "colab": {
          "base_uri": "https://localhost:8080/",
          "height": 376
        },
        "outputId": "51a6273e-4c45-4810-eeda-9a5e847d5865"
      },
      "cell_type": "code",
      "source": [
        "import matplotlib.pyplot as plt\n",
        "plt.plot(epochs_range, loss_values, 'bo', label='Training loss')\n",
        "plt.plot(epochs_range, test_loss_values, 'ro', label='Test loss')\n",
        "plt.title('Training and test loss')\n",
        "plt.xlabel('Epochs')\n",
        "plt.ylabel('Loss')\n",
        "plt.legend()\n",
        "plt.show()"
      ],
      "execution_count": 70,
      "outputs": [
        {
          "output_type": "display_data",
          "data": {
            "image/png": "[encoded data removed]",
            "text/plain": [
              "<Figure size 576x396 with 1 Axes>"
            ]
          },
          "metadata": {
            "tags": []
          }
        }
      ]
    },
    {
      "metadata": {
        "id": "esSDqF7o58Ks",
        "colab_type": "code",
        "colab": {
          "base_uri": "https://localhost:8080/",
          "height": 376
        },
        "outputId": "963cad34-ee4f-4320-f808-741def2935d5"
      },
      "cell_type": "code",
      "source": [
        "plt.plot(epochs_range, acc_values, 'bo', label='Training Accuracy')\n",
        "plt.plot(epochs_range, test_acc_values, 'ro', label='Test Accuracy')\n",
        "plt.title('Training and test accuracy')\n",
        "plt.xlabel('Epochs')\n",
        "plt.ylabel('Accuracy')\n",
        "plt.legend()\n",
        "plt.show()"
      ],
      "execution_count": 71,
      "outputs": [
        {
          "output_type": "display_data",
          "data": {
            "image/png": "[encoded data removed]",
            "text/plain": [
              "<Figure size 576x396 with 1 Axes>"
            ]
          },
          "metadata": {
            "tags": []
          }
        }
      ]
    },
    {
      "metadata": {
        "id": "uQRviYQk6Ist",
        "colab_type": "code",
        "colab": {}
      },
      "cell_type": "code",
      "source": [
        ""
      ],
      "execution_count": 0,
      "outputs": []
    }
  ]
}